{
  "nbformat": 4,
  "nbformat_minor": 0,
  "metadata": {
    "colab": {
      "name": "DeepDream.ipynb",
      "version": "0.3.2",
      "provenance": [],
      "include_colab_link": true
    },
    "kernelspec": {
      "name": "python3",
      "display_name": "Python 3"
    },
    "accelerator": "GPU"
  },
  "cells": [
    {
      "cell_type": "markdown",
      "metadata": {
        "id": "view-in-github",
        "colab_type": "text"
      },
      "source": [
        "<a href=\"https://colab.research.google.com/github/rohit9650/ML/blob/master/DeepDream/DeepDream.ipynb\" target=\"_parent\"><img src=\"https://colab.research.google.com/assets/colab-badge.svg\" alt=\"Open In Colab\"/></a>"
      ]
    },
    {
      "metadata": {
        "id": "uxqzp9yPvMox",
        "colab_type": "code",
        "outputId": "a7d4f59c-71fc-4bf8-8222-003420ece71a",
        "colab": {
          "base_uri": "https://localhost:8080/",
          "height": 413
        }
      },
      "cell_type": "code",
      "source": [
        "!wget https://cdn.photographylife.com/wp-content/uploads/2016/06/Mass.jpg"
      ],
      "execution_count": 1,
      "outputs": [
        {
          "output_type": "stream",
          "text": [
            "--2019-02-09 20:57:54--  https://cdn.photographylife.com/wp-content/uploads/2016/06/Mass.jpg\n",
            "Resolving cdn.photographylife.com (cdn.photographylife.com)... 68.70.205.3, 68.70.205.4, 68.70.205.1, ...\n",
            "Connecting to cdn.photographylife.com (cdn.photographylife.com)|68.70.205.3|:443... connected.\n",
            "HTTP request sent, awaiting response... 200 OK\n",
            "Length: 361459 (353K) [image/jpeg]\n",
            "Saving to: ‘Mass.jpg’\n",
            "\n",
            "\rMass.jpg              0%[                    ]       0  --.-KB/s               \rMass.jpg             24%[===>                ]  87.22K   343KB/s               \rMass.jpg            100%[===================>] 352.99K   844KB/s    in 0.4s    \n",
            "\n",
            "2019-02-09 20:57:55 (844 KB/s) - ‘Mass.jpg’ saved [361459/361459]\n",
            "\n",
            "--2019-02-09 20:57:54--  https://cdn.photographylife.com/wp-content/uploads/2016/06/Mass.jpg\n",
            "Resolving cdn.photographylife.com (cdn.photographylife.com)... 68.70.205.3, 68.70.205.4, 68.70.205.1, ...\n",
            "Connecting to cdn.photographylife.com (cdn.photographylife.com)|68.70.205.3|:443... connected.\n",
            "HTTP request sent, awaiting response... 200 OK\n",
            "Length: 361459 (353K) [image/jpeg]\n",
            "Saving to: ‘Mass.jpg’\n",
            "\n",
            "Mass.jpg            100%[===================>] 352.99K   844KB/s    in 0.4s    \n",
            "\n",
            "2019-02-09 20:57:55 (844 KB/s) - ‘Mass.jpg’ saved [361459/361459]\n",
            "\n"
          ],
          "name": "stdout"
        }
      ]
    },
    {
      "metadata": {
        "id": "dhdV2ihHgoI7",
        "colab_type": "code",
        "colab": {}
      },
      "cell_type": "code",
      "source": [
        "# Loading the pretrained Inception V3 model\n",
        "\n",
        "from keras.applications import inception_v3\n",
        "from keras import backend as K\n",
        "\n",
        "K.set_learning_phase(0)\n",
        "\n",
        "model = inception_v3.InceptionV3(weights='imagenet', \n",
        "                                 include_top=False)"
      ],
      "execution_count": 0,
      "outputs": []
    },
    {
      "metadata": {
        "id": "X-fh_TALm955",
        "colab_type": "code",
        "colab": {}
      },
      "cell_type": "code",
      "source": [
        "# Setting up the DeepDream configuration\n",
        "'''\n",
        "Dictionary mapping layer names to a coefficient quantifying\n",
        "how much the layer’s activation contributes to the loss\n",
        "you’ll seek to maximize. Note that the layer names are\n",
        "hardcoded in the built-in Inception V3 application.\n",
        "'''\n",
        "\n",
        "layers_contributions = {'mixed2': 0.2,\n",
        "                        'mixed3': 3.,\n",
        "                        'mixed4': 2.,\n",
        "                        'mixed5':1.5}"
      ],
      "execution_count": 0,
      "outputs": []
    },
    {
      "metadata": {
        "id": "Hsv5DJhQnhrr",
        "colab_type": "code",
        "colab": {}
      },
      "cell_type": "code",
      "source": [
        "# Defining the loss to be maximized\n",
        "\n",
        "layer_dict = dict([(layer.name, layer) for layer in model.layers])\n",
        "\n",
        "loss = K.variable(0.)\n",
        "\n",
        "for layer_name in layers_contributions:\n",
        "  coeff = layers_contributions[layer_name]\n",
        "  activation = layer_dict[layer_name].output\n",
        "  \n",
        "  scaling = K.prod(K.cast(K.shape(activation), 'float32'))\n",
        "  loss = loss + (coeff *\n",
        "                 K.sum(K.square(activation[:, 2: -2, 2: -2, :]))/ scaling)"
      ],
      "execution_count": 0,
      "outputs": []
    },
    {
      "metadata": {
        "id": "kJGHe9TvpHRk",
        "colab_type": "code",
        "colab": {}
      },
      "cell_type": "code",
      "source": [
        "# Gradient-ascent process\n",
        "\n",
        "dream = model.input\n",
        "\n",
        "grads = K.gradients(loss, dream)[0]\n",
        "\n",
        "grads /= K.maximum(K.mean(K.abs(grads)), 1e-7)\n",
        "\n",
        "outputs = [loss, grads]\n",
        "fetch_loss_and_grads = K.function([dream], outputs)\n",
        "\n",
        "def eval_loss_and_grads(x):\n",
        "  outs = fetch_loss_and_grads([x])\n",
        "  \n",
        "  return outs[0], outs[1]\n",
        "\n",
        "def gradient_ascent(x, iterations, step, max_loss=None):\n",
        "  '''This function runs gradient ascent for a number of iterations.'''\n",
        "  for i in range(iterations):\n",
        "    loss_value, grad_values = eval_loss_and_grads(x)\n",
        "    if max_loss is not None and loss_value > max_loss:\n",
        "      break\n",
        "    print('...Loss value at ', i, ' : ', loss_value)\n",
        "    x += step * grad_values\n",
        "  return x"
      ],
      "execution_count": 0,
      "outputs": []
    },
    {
      "metadata": {
        "id": "vgBF_6kDtrLE",
        "colab_type": "code",
        "colab": {}
      },
      "cell_type": "code",
      "source": [
        "# Auxiliary functions\n",
        "\n",
        "import scipy\n",
        "from keras.preprocessing import image\n",
        "\n",
        "def resize_img(img, size):\n",
        "  img = np.copy(img)\n",
        "  factors = (1, \n",
        "             float(size[0]) / img.shape[1],\n",
        "             float(size[1]) / img.shape[2],\n",
        "             1)\n",
        "  \n",
        "  return scipy.ndimage.zoom(img, factors, order=1)\n",
        "\n",
        "def save_img(img, fname):\n",
        "  pil_img = deprocess_image(np.copy(img))\n",
        "  scipy.misc.imsave(fname, pil_img)\n",
        "\n",
        "def preprocess_image(image_path):\n",
        "  img = image.load_img(image_path)\n",
        "  img = image.img_to_array(img)\n",
        "  \n",
        "  img = np.expand_dims(img, axis=0)\n",
        "  img = inception_v3.preprocess_input(img)\n",
        "  \n",
        "  return img\n",
        "\n",
        "def deprocess_image(x):\n",
        "  if K.image_data_format() == 'channels_first':\n",
        "    x = x.reshape((3, x.shape[2], x.shape[3]))\n",
        "    x = x.transpose((1, 2, 0))\n",
        "  else:\n",
        "    x = x.reshape((x.shape[1], x.shape[2], 3))\n",
        "  \n",
        "  x /= 2\n",
        "  x += 0.5\n",
        "  x *= 255\n",
        "  x = np.clip(x, 0, 255).astype('uint8')\n",
        "  \n",
        "  return x"
      ],
      "execution_count": 0,
      "outputs": []
    },
    {
      "metadata": {
        "id": "tQUoPApprA7E",
        "colab_type": "code",
        "outputId": "6c27d735-6f3a-4f30-a09f-a73a43d60d45",
        "colab": {
          "base_uri": "https://localhost:8080/",
          "height": 739
        }
      },
      "cell_type": "code",
      "source": [
        "# Running gradient ascent over different successive scales\n",
        "\n",
        "import numpy as np\n",
        "\n",
        "step = 0.01\n",
        "num_octave = 3\n",
        "octave_scale = 1.4\n",
        "iterations = 20\n",
        "\n",
        "max_loss = 10.\n",
        "\n",
        "base_image_path = 'Mass.jpg'\n",
        "\n",
        "img = preprocess_image(base_image_path)\n",
        "\n",
        "original_shape = img.shape[1:3]\n",
        "successive_shapes = [original_shape]\n",
        "\n",
        "for i in range(1, num_octave+1):\n",
        "  shape = tuple([int(dim / (octave_scale ** i)) \n",
        "                 for dim in original_shape])\n",
        "  successive_shapes.append(shape)\n",
        "\n",
        "successive_shapes = successive_shapes[::-1]\n",
        "\n",
        "original_img = np.copy(img)\n",
        "shrunk_original_img = resize_img(img, successive_shapes[0])\n",
        "\n",
        "for shape in successive_shapes:\n",
        "  print('Processing image shape : ', shape)\n",
        "  img = resize_img(img, shape)\n",
        "  img = gradient_ascent(img,\n",
        "                        iterations=iterations,\n",
        "                        step=step,\n",
        "                        max_loss=max_loss)\n",
        "  \n",
        "  upscaled_shrunk_original_img = resize_img(shrunk_original_img, shape)\n",
        "  same_size_original = resize_img(original_img, shape)\n",
        "  lost_details = same_size_original - upscaled_shrunk_original_img\n",
        "  \n",
        "  img += lost_details\n",
        "  shrunk_original_img = resize_img(original_img, shape)\n",
        "  \n",
        "  save_img(img, fname='dream_at_scale_' + str(shape) + '.png')\n",
        "\n",
        "save_img(img, fname='final_dream.png')"
      ],
      "execution_count": 19,
      "outputs": [
        {
          "output_type": "stream",
          "text": [
            "Processing image shape :  (497, 746)\n",
            "...Loss value at  0  :  1.488431\n",
            "...Loss value at  1  :  1.9446623\n",
            "...Loss value at  2  :  2.6635947\n",
            "...Loss value at  3  :  3.5067208\n",
            "...Loss value at  4  :  4.369861\n",
            "...Loss value at  5  :  5.2346787\n",
            "...Loss value at  6  :  6.050723\n",
            "...Loss value at  7  :  6.8767757\n",
            "...Loss value at  8  :  7.6460466\n",
            "...Loss value at  9  :  8.406577\n",
            "...Loss value at  10  :  9.137813\n",
            "...Loss value at  11  :  9.85883\n"
          ],
          "name": "stdout"
        },
        {
          "output_type": "stream",
          "text": [
            "/usr/local/lib/python3.6/dist-packages/ipykernel_launcher.py:16: DeprecationWarning: `imsave` is deprecated!\n",
            "`imsave` is deprecated in SciPy 1.0.0, and will be removed in 1.2.0.\n",
            "Use ``imageio.imwrite`` instead.\n",
            "  app.launch_new_instance()\n"
          ],
          "name": "stderr"
        },
        {
          "output_type": "stream",
          "text": [
            "Processing image shape :  (696, 1044)\n",
            "...Loss value at  0  :  3.480019\n",
            "...Loss value at  1  :  4.9060893\n",
            "...Loss value at  2  :  6.118775\n",
            "...Loss value at  3  :  7.1910787\n",
            "...Loss value at  4  :  8.185787\n",
            "...Loss value at  5  :  9.131754\n",
            "Processing image shape :  (975, 1462)\n",
            "...Loss value at  0  :  3.3428652\n",
            "...Loss value at  1  :  4.6267705\n",
            "...Loss value at  2  :  5.782117\n",
            "...Loss value at  3  :  6.8565397\n",
            "...Loss value at  4  :  7.8900533\n",
            "...Loss value at  5  :  8.875455\n",
            "...Loss value at  6  :  9.823857\n",
            "Processing image shape :  (1365, 2048)\n",
            "...Loss value at  0  :  3.5813951\n",
            "...Loss value at  1  :  4.932485\n",
            "...Loss value at  2  :  6.1044493\n",
            "...Loss value at  3  :  7.223404\n",
            "...Loss value at  4  :  8.324343\n",
            "...Loss value at  5  :  9.393098\n"
          ],
          "name": "stdout"
        }
      ]
    }
  ]
}