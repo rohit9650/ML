{
  "nbformat": 4,
  "nbformat_minor": 0,
  "metadata": {
    "colab": {
      "name": "reuters_news_classifier.ipynb",
      "version": "0.3.2",
      "provenance": [],
      "collapsed_sections": [],
      "include_colab_link": true
    },
    "kernelspec": {
      "name": "python3",
      "display_name": "Python 3"
    }
  },
  "cells": [
    {
      "cell_type": "markdown",
      "metadata": {
        "id": "view-in-github",
        "colab_type": "text"
      },
      "source": [
        "<a href=\"https://colab.research.google.com/github/rohit9650/ML/blob/master/reuters_news_classifier.ipynb\" target=\"_parent\"><img src=\"https://colab.research.google.com/assets/colab-badge.svg\" alt=\"Open In Colab\"/></a>"
      ]
    },
    {
      "metadata": {
        "id": "T-QzdZF7pa38",
        "colab_type": "code",
        "colab": {}
      },
      "cell_type": "code",
      "source": [
        "from keras.datasets import reuters\n",
        "import numpy as np\n",
        "from keras import models\n",
        "from keras import layers\n",
        "import matplotlib.pyplot as plt\n",
        "from keras.utils.np_utils import to_categorical"
      ],
      "execution_count": 0,
      "outputs": []
    },
    {
      "metadata": {
        "id": "QNlV-eYrJNO5",
        "colab_type": "code",
        "colab": {
          "base_uri": "https://localhost:8080/",
          "height": 127
        },
        "outputId": "f02afa5f-5e49-4b3f-9970-cbc793f38fb2"
      },
      "cell_type": "code",
      "source": [
        "(train_data, train_label), (test_data, test_label) = reuters.load_data(num_words=10000)\n",
        "\n",
        "word_index = reuters.get_word_index()\n",
        "reverse_word_index = dict([(value, key) for (key, value) in  word_index.items()])\n",
        "decode_newswire = ' '.join([reverse_word_index.get(i-3, '?') for i in train_data[0]])\n",
        "\n",
        "print(decode_newswire)"
      ],
      "execution_count": 4,
      "outputs": [
        {
          "output_type": "stream",
          "text": [
            "Downloading data from https://s3.amazonaws.com/text-datasets/reuters.npz\n",
            "2113536/2110848 [==============================] - 0s 0us/step\n",
            "Downloading data from https://s3.amazonaws.com/text-datasets/reuters_word_index.json\n",
            "557056/550378 [==============================] - 0s 0us/step\n",
            "? ? ? said as a result of its december acquisition of space co it expects earnings per share in 1987 of 1 15 to 1 30 dlrs per share up from 70 cts in 1986 the company said pretax net should rise to nine to 10 mln dlrs from six mln dlrs in 1986 and rental operation revenues to 19 to 22 mln dlrs from 12 5 mln dlrs it said cash flow per share this year should be 2 50 to three dlrs reuter 3\n"
          ],
          "name": "stdout"
        }
      ]
    },
    {
      "metadata": {
        "id": "c-wxqMn_KjYc",
        "colab_type": "code",
        "colab": {
          "base_uri": "https://localhost:8080/",
          "height": 71
        },
        "outputId": "a747116c-4612-43d7-bb17-107c730242a6"
      },
      "cell_type": "code",
      "source": [
        "def vectorize_sequences(sequences, dimension=10000):\n",
        "  results = np.zeros((len(sequences), dimension))\n",
        "  for i, sequence in enumerate(sequences):\n",
        "    results[i, sequence] = 1\n",
        "  return results\n",
        "\n",
        "x_train = vectorize_sequences(train_data)\n",
        "x_test = vectorize_sequences(test_label)\n",
        "\n",
        "# one_hot_train_labels = to_categorical(train_label)\n",
        "def to_one_hot(labels, dimension=46):\n",
        "  results = np.zeros((len(labels), dimension))\n",
        "  for i, label in enumerate(labels):\n",
        "    results[i, label] = 1\n",
        "  return results\n",
        "\n",
        "y_train = to_categorical(train_label)\n",
        "y_test = to_categorical(test_label)\n",
        "\n",
        "print(y_train[0])\n",
        "print(x_train[0])"
      ],
      "execution_count": 19,
      "outputs": [
        {
          "output_type": "stream",
          "text": [
            "[0. 0. 0. 1. 0. 0. 0. 0. 0. 0. 0. 0. 0. 0. 0. 0. 0. 0. 0. 0. 0. 0. 0. 0.\n",
            " 0. 0. 0. 0. 0. 0. 0. 0. 0. 0. 0. 0. 0. 0. 0. 0. 0. 0. 0. 0. 0. 0.]\n",
            "[0. 1. 1. ... 0. 0. 0.]\n"
          ],
          "name": "stdout"
        }
      ]
    },
    {
      "metadata": {
        "id": "1gOPpKCjNbwQ",
        "colab_type": "code",
        "colab": {}
      },
      "cell_type": "code",
      "source": [
        "model = models.Sequential()\n",
        "\n",
        "model.add(layers.Dense(64, activation='relu', input_shape=(10000,)))\n",
        "model.add(layers.Dense(64, activation='relu'))\n",
        "model.add(layers.Dense(46, activation='softmax'))\n",
        "\n",
        "model.compile(optimizer='rmsprop',\n",
        "             loss='categorical_crossentropy',\n",
        "             metrics=['accuracy'])"
      ],
      "execution_count": 0,
      "outputs": []
    },
    {
      "metadata": {
        "id": "lvzwVX9nQQiY",
        "colab_type": "code",
        "colab": {}
      },
      "cell_type": "code",
      "source": [
        "x_val = x_train[:1000]\n",
        "partial_x_train = x_train[1000:]\n",
        "\n",
        "y_val = y_train[:1000]\n",
        "partial_y_train = y_train[1000:]"
      ],
      "execution_count": 0,
      "outputs": []
    },
    {
      "metadata": {
        "id": "AJ-wKWKFQzgA",
        "colab_type": "code",
        "colab": {
          "base_uri": "https://localhost:8080/",
          "height": 755
        },
        "outputId": "64f1910d-4b9a-4e2c-e091-86e7ae2200b3"
      },
      "cell_type": "code",
      "source": [
        "history = model.fit(partial_x_train,\n",
        "                   partial_y_train,\n",
        "                   epochs=20,\n",
        "                   batch_size=512,\n",
        "                   validation_data=(x_val, y_val))"
      ],
      "execution_count": 22,
      "outputs": [
        {
          "output_type": "stream",
          "text": [
            "Train on 7982 samples, validate on 1000 samples\n",
            "Epoch 1/20\n",
            "7982/7982 [==============================] - 1s 186us/step - loss: 2.4640 - acc: 0.5331 - val_loss: 1.6309 - val_acc: 0.6520\n",
            "Epoch 2/20\n",
            "7982/7982 [==============================] - 1s 157us/step - loss: 1.3407 - acc: 0.7225 - val_loss: 1.2559 - val_acc: 0.7250\n",
            "Epoch 3/20\n",
            "7982/7982 [==============================] - 1s 157us/step - loss: 1.0050 - acc: 0.7912 - val_loss: 1.1410 - val_acc: 0.7350\n",
            "Epoch 4/20\n",
            "7982/7982 [==============================] - 1s 157us/step - loss: 0.8017 - acc: 0.8304 - val_loss: 1.0135 - val_acc: 0.7900\n",
            "Epoch 5/20\n",
            "7982/7982 [==============================] - 1s 155us/step - loss: 0.6361 - acc: 0.8659 - val_loss: 0.9848 - val_acc: 0.8090\n",
            "Epoch 6/20\n",
            "7982/7982 [==============================] - 1s 156us/step - loss: 0.5118 - acc: 0.8909 - val_loss: 0.9337 - val_acc: 0.8030\n",
            "Epoch 7/20\n",
            "7982/7982 [==============================] - 1s 159us/step - loss: 0.4116 - acc: 0.9110 - val_loss: 0.9220 - val_acc: 0.8010\n",
            "Epoch 8/20\n",
            "7982/7982 [==============================] - 1s 158us/step - loss: 0.3355 - acc: 0.9262 - val_loss: 0.8989 - val_acc: 0.8100\n",
            "Epoch 9/20\n",
            "7982/7982 [==============================] - 1s 156us/step - loss: 0.2776 - acc: 0.9409 - val_loss: 0.9165 - val_acc: 0.8170\n",
            "Epoch 10/20\n",
            "7982/7982 [==============================] - 1s 157us/step - loss: 0.2366 - acc: 0.9449 - val_loss: 0.8952 - val_acc: 0.8170\n",
            "Epoch 11/20\n",
            "7982/7982 [==============================] - 1s 157us/step - loss: 0.2036 - acc: 0.9491 - val_loss: 0.9434 - val_acc: 0.8080\n",
            "Epoch 12/20\n",
            "7982/7982 [==============================] - 1s 155us/step - loss: 0.1783 - acc: 0.9526 - val_loss: 0.9691 - val_acc: 0.8030\n",
            "Epoch 13/20\n",
            "7982/7982 [==============================] - 1s 156us/step - loss: 0.1656 - acc: 0.9528 - val_loss: 0.9614 - val_acc: 0.8150\n",
            "Epoch 14/20\n",
            "7982/7982 [==============================] - 1s 158us/step - loss: 0.1450 - acc: 0.9551 - val_loss: 0.9700 - val_acc: 0.8120\n",
            "Epoch 15/20\n",
            "7982/7982 [==============================] - 1s 157us/step - loss: 0.1428 - acc: 0.9543 - val_loss: 0.9603 - val_acc: 0.8110\n",
            "Epoch 16/20\n",
            "7982/7982 [==============================] - 1s 157us/step - loss: 0.1315 - acc: 0.9558 - val_loss: 0.9899 - val_acc: 0.8050\n",
            "Epoch 17/20\n",
            "7982/7982 [==============================] - 1s 157us/step - loss: 0.1238 - acc: 0.9573 - val_loss: 1.0182 - val_acc: 0.8040\n",
            "Epoch 18/20\n",
            "7982/7982 [==============================] - 1s 156us/step - loss: 0.1170 - acc: 0.9578 - val_loss: 1.0053 - val_acc: 0.8100\n",
            "Epoch 19/20\n",
            "7982/7982 [==============================] - 1s 155us/step - loss: 0.1140 - acc: 0.9584 - val_loss: 1.0162 - val_acc: 0.8120\n",
            "Epoch 20/20\n",
            "7982/7982 [==============================] - 1s 156us/step - loss: 0.1124 - acc: 0.9572 - val_loss: 1.0407 - val_acc: 0.8080\n"
          ],
          "name": "stdout"
        }
      ]
    },
    {
      "metadata": {
        "id": "xx4FbV1-RUMw",
        "colab_type": "code",
        "colab": {
          "base_uri": "https://localhost:8080/",
          "height": 35
        },
        "outputId": "58bb6efa-ce2f-4827-d8b7-a4262c0e7fd9"
      },
      "cell_type": "code",
      "source": [
        "print(history.history.keys())"
      ],
      "execution_count": 18,
      "outputs": [
        {
          "output_type": "stream",
          "text": [
            "dict_keys(['val_loss', 'val_acc', 'loss', 'acc'])\n"
          ],
          "name": "stdout"
        }
      ]
    },
    {
      "metadata": {
        "id": "XFY1nO_gRtoO",
        "colab_type": "code",
        "colab": {
          "base_uri": "https://localhost:8080/",
          "height": 376
        },
        "outputId": "1ac87272-8125-496a-da0c-8224549c1873"
      },
      "cell_type": "code",
      "source": [
        "loss = history.history['loss']\n",
        "val_loss = history.history['val_loss']\n",
        "\n",
        "epochs = range(1, len(history.history['acc'])+1)\n",
        "\n",
        "plt.plot(epochs, loss, 'ro', label='Training loss')\n",
        "plt.plot(epochs, val_loss, 'r', label='Validation loss')\n",
        "\n",
        "plt.title('Training and Validation loss')\n",
        "plt.xlabel('Epoch')\n",
        "plt.ylabel('Loss')\n",
        "\n",
        "plt.legend()\n",
        "plt.show()"
      ],
      "execution_count": 23,
      "outputs": [
        {
          "output_type": "display_data",
          "data": {
            "image/png": "[encoded data removed]",
            "text/plain": [
              "<matplotlib.figure.Figure at 0x7ff70e582208>"
            ]
          },
          "metadata": {
            "tags": []
          }
        }
      ]
    },
    {
      "metadata": {
        "id": "ZnbtKTpjS3P9",
        "colab_type": "code",
        "colab": {
          "base_uri": "https://localhost:8080/",
          "height": 376
        },
        "outputId": "9cc5ec93-1838-4e74-f6c9-c2f3d2f4f53c"
      },
      "cell_type": "code",
      "source": [
        "acc = history.history['acc']\n",
        "val_acc = history.history['val_acc']\n",
        "\n",
        "epochs = range(1, len(history.history['acc'])+1)\n",
        "\n",
        "plt.plot(epochs, acc, 'bo', label='Training accuracy')\n",
        "plt.plot(epochs, val_acc, 'b', label='Validation accuracy')\n",
        "\n",
        "plt.title('Training and Validation accuracy')\n",
        "plt.xlabel('Epochs')\n",
        "plt.ylabel('Accuracy')\n",
        "\n",
        "plt.legend()\n",
        "plt.show()"
      ],
      "execution_count": 24,
      "outputs": [
        {
          "output_type": "display_data",
          "data": {
            "image/png": "[encoded data removed]",
            "text/plain": [
              "<matplotlib.figure.Figure at 0x7ff70e591358>"
            ]
          },
          "metadata": {
            "tags": []
          }
        }
      ]
    },
    {
      "metadata": {
        "id": "hRPZrOvJUD_D",
        "colab_type": "code",
        "colab": {
          "base_uri": "https://localhost:8080/",
          "height": 395
        },
        "outputId": "347161f4-ae1d-4c08-f2ca-3a598f54556a"
      },
      "cell_type": "code",
      "source": [
        "\n",
        "\n",
        "model = models.Sequential()\n",
        "\n",
        "model.add(layers.Dense(64, activation='relu', input_shape=(10000,)))\n",
        "model.add(layers.Dense(64, activation='relu'))\n",
        "model.add(layers.Dense(46, activation='softmax'))\n",
        "\n",
        "model.compile(optimizer='rmsprop',\n",
        "             loss='categorical_crossentropy',\n",
        "             metrics=['accuracy'])\n",
        "\n",
        "model.fit(partial_x_train,\n",
        "         partial_y_train,\n",
        "         epochs=9,\n",
        "         batch_size=128,\n",
        "         validation_data=(x_val, y_val))\n",
        "\n",
        "result = model.evaluate(x_test, y_test)\n",
        "print(result)"
      ],
      "execution_count": 25,
      "outputs": [
        {
          "output_type": "stream",
          "text": [
            "Train on 7982 samples, validate on 1000 samples\n",
            "Epoch 1/9\n",
            "7982/7982 [==============================] - 2s 278us/step - loss: 1.7804 - acc: 0.6227 - val_loss: 1.2057 - val_acc: 0.7220\n",
            "Epoch 2/9\n",
            "7982/7982 [==============================] - 2s 228us/step - loss: 0.9235 - acc: 0.7999 - val_loss: 1.0037 - val_acc: 0.7840\n",
            "Epoch 3/9\n",
            "7982/7982 [==============================] - 2s 230us/step - loss: 0.6171 - acc: 0.8678 - val_loss: 0.9130 - val_acc: 0.7980\n",
            "Epoch 4/9\n",
            "7982/7982 [==============================] - 2s 236us/step - loss: 0.4274 - acc: 0.9085 - val_loss: 0.8634 - val_acc: 0.8210\n",
            "Epoch 5/9\n",
            "7982/7982 [==============================] - 2s 235us/step - loss: 0.3090 - acc: 0.9318 - val_loss: 0.8486 - val_acc: 0.8260\n",
            "Epoch 6/9\n",
            "7982/7982 [==============================] - 2s 227us/step - loss: 0.2392 - acc: 0.9432 - val_loss: 0.9583 - val_acc: 0.8140\n",
            "Epoch 7/9\n",
            "7982/7982 [==============================] - 2s 228us/step - loss: 0.2030 - acc: 0.9475 - val_loss: 0.9177 - val_acc: 0.8180\n",
            "Epoch 8/9\n",
            "7982/7982 [==============================] - 2s 224us/step - loss: 0.1727 - acc: 0.9533 - val_loss: 0.9869 - val_acc: 0.8010\n",
            "Epoch 9/9\n",
            "7982/7982 [==============================] - 2s 227us/step - loss: 0.1589 - acc: 0.9533 - val_loss: 0.9783 - val_acc: 0.8090\n",
            "2246/2246 [==============================] - 0s 101us/step\n",
            "[3.3144133889239913, 0.36197684778237277]\n"
          ],
          "name": "stdout"
        }
      ]
    }
  ]
}