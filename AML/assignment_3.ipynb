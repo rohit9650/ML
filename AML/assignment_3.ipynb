{
  "nbformat": 4,
  "nbformat_minor": 0,
  "metadata": {
    "colab": {
      "name": "assignment_3.ipynb",
      "version": "0.3.2",
      "provenance": [],
      "collapsed_sections": []
    },
    "kernelspec": {
      "name": "python3",
      "display_name": "Python 3"
    }
  },
  "cells": [
    {
      "metadata": {
        "id": "akuXK2yzbh3D",
        "colab_type": "code",
        "outputId": "4557dba2-4318-4cc5-c5d9-ef286ab735ca",
        "colab": {
          "base_uri": "https://localhost:8080/",
          "height": 253
        }
      },
      "cell_type": "code",
      "source": [
        "'''\n",
        "Assignment 3:\n",
        "\n",
        "linear regression\n",
        "\n",
        "- Reproduce the results from Chapter 3 from ISLR on Adverstising data\n",
        "  to answer which channels can be attributed to sales.\n",
        "'''\n",
        "\n",
        "# Downloading the training data\n",
        "import os\n",
        "\n",
        "! wget https://raw.githubusercontent.com/rohit9650/ML/master/AML/Advertising.csv\n",
        "print(os.listdir(\"/content/\"))"
      ],
      "execution_count": 0,
      "outputs": [
        {
          "output_type": "stream",
          "text": [
            "--2019-01-27 18:50:06--  https://raw.githubusercontent.com/rohit9650/ML/master/AML/Advertising.csv\n",
            "Resolving raw.githubusercontent.com (raw.githubusercontent.com)... 151.101.0.133, 151.101.64.133, 151.101.128.133, ...\n",
            "Connecting to raw.githubusercontent.com (raw.githubusercontent.com)|151.101.0.133|:443... connected.\n",
            "HTTP request sent, awaiting response... 200 OK\n",
            "Length: 5166 (5.0K) [text/plain]\n",
            "Saving to: ‘Advertising.csv.8’\n",
            "\n",
            "\rAdvertising.csv.8     0%[                    ]       0  --.-KB/s               \rAdvertising.csv.8   100%[===================>]   5.04K  --.-KB/s    in 0s      \n",
            "\n",
            "2019-01-27 18:50:06 (73.9 MB/s) - ‘Advertising.csv.8’ saved [5166/5166]\n",
            "\n",
            "['.config', 'Advertising.csv.7', 'Advertising.csv.1', 'Advertising.csv.3', 'Advertising.csv.4', 'Advertising.csv.6', 'Advertising.csv.8', 'Advertising.csv.5', 'Advertising.csv', 'Advertising.csv.2', 'sample_data']\n"
          ],
          "name": "stdout"
        }
      ]
    },
    {
      "metadata": {
        "id": "ha8MJ7hoi06H",
        "colab_type": "code",
        "outputId": "f740ecab-42dc-4b25-dc27-58eb1ad9cb7a",
        "colab": {
          "base_uri": "https://localhost:8080/",
          "height": 204
        }
      },
      "cell_type": "code",
      "source": [
        "import numpy as np \n",
        "import pandas as pd \n",
        "\n",
        "# Reading the dataset with dropping unnecessay column\n",
        "data = pd.read_csv(\"/content/Advertising.csv.8\", index_col = 0)\n",
        "data.head()"
      ],
      "execution_count": 0,
      "outputs": [
        {
          "output_type": "execute_result",
          "data": {
            "text/html": [
              "<div>\n",
              "<style scoped>\n",
              "    .dataframe tbody tr th:only-of-type {\n",
              "        vertical-align: middle;\n",
              "    }\n",
              "\n",
              "    .dataframe tbody tr th {\n",
              "        vertical-align: top;\n",
              "    }\n",
              "\n",
              "    .dataframe thead th {\n",
              "        text-align: right;\n",
              "    }\n",
              "</style>\n",
              "<table border=\"1\" class=\"dataframe\">\n",
              "  <thead>\n",
              "    <tr style=\"text-align: right;\">\n",
              "      <th></th>\n",
              "      <th>TV</th>\n",
              "      <th>Radio</th>\n",
              "      <th>Newspaper</th>\n",
              "      <th>Sales</th>\n",
              "    </tr>\n",
              "  </thead>\n",
              "  <tbody>\n",
              "    <tr>\n",
              "      <th>1</th>\n",
              "      <td>230.1</td>\n",
              "      <td>37.8</td>\n",
              "      <td>69.2</td>\n",
              "      <td>22.1</td>\n",
              "    </tr>\n",
              "    <tr>\n",
              "      <th>2</th>\n",
              "      <td>44.5</td>\n",
              "      <td>39.3</td>\n",
              "      <td>45.1</td>\n",
              "      <td>10.4</td>\n",
              "    </tr>\n",
              "    <tr>\n",
              "      <th>3</th>\n",
              "      <td>17.2</td>\n",
              "      <td>45.9</td>\n",
              "      <td>69.3</td>\n",
              "      <td>9.3</td>\n",
              "    </tr>\n",
              "    <tr>\n",
              "      <th>4</th>\n",
              "      <td>151.5</td>\n",
              "      <td>41.3</td>\n",
              "      <td>58.5</td>\n",
              "      <td>18.5</td>\n",
              "    </tr>\n",
              "    <tr>\n",
              "      <th>5</th>\n",
              "      <td>180.8</td>\n",
              "      <td>10.8</td>\n",
              "      <td>58.4</td>\n",
              "      <td>12.9</td>\n",
              "    </tr>\n",
              "  </tbody>\n",
              "</table>\n",
              "</div>"
            ],
            "text/plain": [
              "      TV  Radio  Newspaper  Sales\n",
              "1  230.1   37.8       69.2   22.1\n",
              "2   44.5   39.3       45.1   10.4\n",
              "3   17.2   45.9       69.3    9.3\n",
              "4  151.5   41.3       58.5   18.5\n",
              "5  180.8   10.8       58.4   12.9"
            ]
          },
          "metadata": {
            "tags": []
          },
          "execution_count": 221
        }
      ]
    },
    {
      "metadata": {
        "id": "S76JrE9Cpw0U",
        "colab_type": "code",
        "colab": {}
      },
      "cell_type": "code",
      "source": [
        "# features and target\n",
        "\n",
        "x = data[['TV', 'Radio', 'Newspaper']]\n",
        "y = data['Sales']"
      ],
      "execution_count": 0,
      "outputs": []
    },
    {
      "metadata": {
        "id": "khQlOHAip_OE",
        "colab_type": "code",
        "outputId": "5772fc9f-6020-4dd9-f273-741ff2c1043b",
        "colab": {
          "base_uri": "https://localhost:8080/",
          "height": 203
        }
      },
      "cell_type": "code",
      "source": [
        "# plotting the relationship graph\n",
        "\n",
        "import matplotlib.pyplot as plt\n",
        "import seaborn as sns\n",
        "%matplotlib inline\n",
        "\n",
        "sns.pairplot(data=data, \n",
        "             x_vars=['TV', 'Radio', 'Newspaper'], \n",
        "             y_vars='Sales')\n"
      ],
      "execution_count": 0,
      "outputs": [
        {
          "output_type": "execute_result",
          "data": {
            "text/plain": [
              "<seaborn.axisgrid.PairGrid at 0x7f086ae61710>"
            ]
          },
          "metadata": {
            "tags": []
          },
          "execution_count": 223
        },
        {
          "output_type": "display_data",
          "data": {
            "image/png": "[encoded data removed]",
            "text/plain": [
              "<Figure size 540x180 with 3 Axes>"
            ]
          },
          "metadata": {
            "tags": []
          }
        }
      ]
    },
    {
      "metadata": {
        "id": "Btb_A0IYqWe2",
        "colab_type": "code",
        "outputId": "dc0aeb8c-f924-4384-ea72-553d7d327ebd",
        "colab": {
          "base_uri": "https://localhost:8080/",
          "height": 35
        }
      },
      "cell_type": "code",
      "source": [
        "#check the missing columns\n",
        "\n",
        "data.isnull().values.any()"
      ],
      "execution_count": 0,
      "outputs": [
        {
          "output_type": "execute_result",
          "data": {
            "text/plain": [
              "False"
            ]
          },
          "metadata": {
            "tags": []
          },
          "execution_count": 224
        }
      ]
    },
    {
      "metadata": {
        "id": "od6OPd6Sq7Nt",
        "colab_type": "code",
        "colab": {}
      },
      "cell_type": "code",
      "source": [
        "from sklearn.model_selection import train_test_split\n",
        "\n",
        "x_train, x_test, y_train, y_test = train_test_split(x,\n",
        "                                                    y,\n",
        "                                                    test_size=0.3)\n"
      ],
      "execution_count": 0,
      "outputs": []
    },
    {
      "metadata": {
        "id": "psHGXHwW7pvi",
        "colab_type": "code",
        "colab": {}
      },
      "cell_type": "code",
      "source": [
        "r2score_dict = {'Sales ~ TV':0, \n",
        "                'Sales ~ Radio':0,\n",
        "                'Sales ~ Newspaper':0,\n",
        "                'Sales ~ TV + Radio':0,\n",
        "                'Sales ~ TV + Newspaper':0,\n",
        "                'Sales ~ Radio + Newspaper':0,\n",
        "                'Sales ~ TV + Radio + Newspaper':0}\n",
        "rmse_dict = {'Sales ~ TV':0, \n",
        "                'Sales ~ Radio':0,\n",
        "                'Sales ~ Newspaper':0,\n",
        "                'Sales ~ TV + Radio':0,\n",
        "                'Sales ~ TV + Newspaper':0,\n",
        "                'Sales ~ Radio + Newspaper':0,\n",
        "                'Sales ~ TV + Radio + Newspaper':0}"
      ],
      "execution_count": 0,
      "outputs": []
    },
    {
      "metadata": {
        "id": "SOXoxPPmItp5",
        "colab_type": "code",
        "outputId": "023a037f-c8a8-4f75-98ef-d80a889f53f9",
        "colab": {
          "base_uri": "https://localhost:8080/",
          "height": 125
        }
      },
      "cell_type": "code",
      "source": [
        "new_data = pd.DataFrame(x_train)\n",
        "new_data['Sales'] = pd.DataFrame(y_train)\n",
        "print(new_data.head())"
      ],
      "execution_count": 0,
      "outputs": [
        {
          "output_type": "stream",
          "text": [
            "        TV  Radio  Newspaper  Sales\n",
            "16   195.4   47.7       52.9   22.4\n",
            "150   44.7   25.8       20.6   10.1\n",
            "57     7.3   28.1       41.4    5.5\n",
            "194  166.8   42.0        3.6   19.6\n",
            "108   90.4    0.3       23.2    8.7\n"
          ],
          "name": "stdout"
        }
      ]
    },
    {
      "metadata": {
        "id": "Mq_fOB14t-Nm",
        "colab_type": "code",
        "outputId": "6e865a13-451d-450b-e2de-90d5e53a8115",
        "colab": {
          "base_uri": "https://localhost:8080/",
          "height": 521
        }
      },
      "cell_type": "code",
      "source": [
        "import statsmodels.formula.api as sm\n",
        "\n",
        "lm_model = sm.ols(formula='Sales ~ TV', \n",
        "                  data=new_data).fit()\n",
        "\n",
        "print(lm_model.params)\n",
        "print(lm_model.summary())"
      ],
      "execution_count": 0,
      "outputs": [
        {
          "output_type": "stream",
          "text": [
            "Intercept    6.994418\n",
            "TV           0.047649\n",
            "dtype: float64\n",
            "                            OLS Regression Results                            \n",
            "==============================================================================\n",
            "Dep. Variable:                  Sales   R-squared:                       0.609\n",
            "Model:                            OLS   Adj. R-squared:                  0.606\n",
            "Method:                 Least Squares   F-statistic:                     215.2\n",
            "Date:                Sun, 27 Jan 2019   Prob (F-statistic):           5.95e-30\n",
            "Time:                        21:08:06   Log-Likelihood:                -364.88\n",
            "No. Observations:                 140   AIC:                             733.8\n",
            "Df Residuals:                     138   BIC:                             739.6\n",
            "Df Model:                           1                                         \n",
            "Covariance Type:            nonrobust                                         \n",
            "==============================================================================\n",
            "                 coef    std err          t      P>|t|      [0.025      0.975]\n",
            "------------------------------------------------------------------------------\n",
            "Intercept      6.9944      0.552     12.675      0.000       5.903       8.086\n",
            "TV             0.0476      0.003     14.670      0.000       0.041       0.054\n",
            "==============================================================================\n",
            "Omnibus:                        0.397   Durbin-Watson:                   1.827\n",
            "Prob(Omnibus):                  0.820   Jarque-Bera (JB):                0.508\n",
            "Skew:                          -0.117   Prob(JB):                        0.776\n",
            "Kurtosis:                       2.820   Cond. No.                         336.\n",
            "==============================================================================\n",
            "\n",
            "Warnings:\n",
            "[1] Standard Errors assume that the covariance matrix of the errors is correctly specified.\n"
          ],
          "name": "stdout"
        }
      ]
    },
    {
      "metadata": {
        "id": "1Fk10-8Rt-A7",
        "colab_type": "code",
        "outputId": "61f588df-3137-4304-a0e0-68feab45a3c5",
        "colab": {
          "base_uri": "https://localhost:8080/",
          "height": 53
        }
      },
      "cell_type": "code",
      "source": [
        "y_pred = lm_model.predict(x_test)\n",
        "\n",
        "r2score = r2_score(y_test, y_pred)\n",
        "print(r2score)\n",
        "\n",
        "\n",
        "rmse = np.sqrt(mean_squared_error(y_test, y_pred))\n",
        "print(rmse)\n",
        "\n",
        "r2score_dict['Sales ~ TV'] = r2score\n",
        "rmse_dict['Sales ~ TV'] = rmse"
      ],
      "execution_count": 0,
      "outputs": [
        {
          "output_type": "stream",
          "text": [
            "0.6179204885026602\n",
            "3.156819316558862\n"
          ],
          "name": "stdout"
        }
      ]
    },
    {
      "metadata": {
        "id": "ADMh9kQwt901",
        "colab_type": "code",
        "outputId": "ffa3d5f7-d953-41b8-da15-6426e25e0ff2",
        "colab": {
          "base_uri": "https://localhost:8080/",
          "height": 521
        }
      },
      "cell_type": "code",
      "source": [
        "import statsmodels.formula.api as sm\n",
        "\n",
        "lm_model = sm.ols(formula='Sales ~ Radio', \n",
        "                  data=new_data).fit()\n",
        "\n",
        "print(lm_model.params)\n",
        "print(lm_model.summary())"
      ],
      "execution_count": 0,
      "outputs": [
        {
          "output_type": "stream",
          "text": [
            "Intercept    9.201038\n",
            "Radio        0.205986\n",
            "dtype: float64\n",
            "                            OLS Regression Results                            \n",
            "==============================================================================\n",
            "Dep. Variable:                  Sales   R-squared:                       0.332\n",
            "Model:                            OLS   Adj. R-squared:                  0.327\n",
            "Method:                 Least Squares   F-statistic:                     68.53\n",
            "Date:                Sun, 27 Jan 2019   Prob (F-statistic):           9.61e-14\n",
            "Time:                        21:08:06   Log-Likelihood:                -402.44\n",
            "No. Observations:                 140   AIC:                             808.9\n",
            "Df Residuals:                     138   BIC:                             814.8\n",
            "Df Model:                           1                                         \n",
            "Covariance Type:            nonrobust                                         \n",
            "==============================================================================\n",
            "                 coef    std err          t      P>|t|      [0.025      0.975]\n",
            "------------------------------------------------------------------------------\n",
            "Intercept      9.2010      0.683     13.476      0.000       7.851      10.551\n",
            "Radio          0.2060      0.025      8.278      0.000       0.157       0.255\n",
            "==============================================================================\n",
            "Omnibus:                       16.696   Durbin-Watson:                   1.744\n",
            "Prob(Omnibus):                  0.000   Jarque-Bera (JB):               18.747\n",
            "Skew:                          -0.830   Prob(JB):                     8.50e-05\n",
            "Kurtosis:                       3.679   Cond. No.                         51.4\n",
            "==============================================================================\n",
            "\n",
            "Warnings:\n",
            "[1] Standard Errors assume that the covariance matrix of the errors is correctly specified.\n"
          ],
          "name": "stdout"
        }
      ]
    },
    {
      "metadata": {
        "id": "tj1k2Q6Qt9qa",
        "colab_type": "code",
        "outputId": "42b8b842-3da8-4d98-a458-cefddc8553bb",
        "colab": {
          "base_uri": "https://localhost:8080/",
          "height": 53
        }
      },
      "cell_type": "code",
      "source": [
        "y_pred = lm_model.predict(x_test)\n",
        "\n",
        "r2score = r2_score(y_test, y_pred)\n",
        "print(r2score)\n",
        "\n",
        "\n",
        "rmse = np.sqrt(mean_squared_error(y_test, y_pred))\n",
        "print(rmse)\n",
        "\n",
        "r2score_dict['Sales ~ Radio'] = r2score\n",
        "rmse_dict['Sales ~ Radio'] = rmse"
      ],
      "execution_count": 0,
      "outputs": [
        {
          "output_type": "stream",
          "text": [
            "0.33171453287453523\n",
            "4.174974803973364\n"
          ],
          "name": "stdout"
        }
      ]
    },
    {
      "metadata": {
        "id": "UTKldQb9t9aR",
        "colab_type": "code",
        "outputId": "af5218e8-5fc8-4d3a-f00e-d401f43b02b9",
        "colab": {
          "base_uri": "https://localhost:8080/",
          "height": 521
        }
      },
      "cell_type": "code",
      "source": [
        "import statsmodels.formula.api as sm\n",
        "\n",
        "lm_model = sm.ols(formula='Sales ~ Newspaper', \n",
        "                  data=new_data).fit()\n",
        "\n",
        "print(lm_model.params)\n",
        "print(lm_model.summary())"
      ],
      "execution_count": 0,
      "outputs": [
        {
          "output_type": "stream",
          "text": [
            "Intercept    12.160369\n",
            "Newspaper     0.061372\n",
            "dtype: float64\n",
            "                            OLS Regression Results                            \n",
            "==============================================================================\n",
            "Dep. Variable:                  Sales   R-squared:                       0.058\n",
            "Model:                            OLS   Adj. R-squared:                  0.052\n",
            "Method:                 Least Squares   F-statistic:                     8.566\n",
            "Date:                Sun, 27 Jan 2019   Prob (F-statistic):            0.00401\n",
            "Time:                        21:08:06   Log-Likelihood:                -426.45\n",
            "No. Observations:                 140   AIC:                             856.9\n",
            "Df Residuals:                     138   BIC:                             862.8\n",
            "Df Model:                           1                                         \n",
            "Covariance Type:            nonrobust                                         \n",
            "==============================================================================\n",
            "                 coef    std err          t      P>|t|      [0.025      0.975]\n",
            "------------------------------------------------------------------------------\n",
            "Intercept     12.1604      0.757     16.060      0.000      10.663      13.658\n",
            "Newspaper      0.0614      0.021      2.927      0.004       0.020       0.103\n",
            "==============================================================================\n",
            "Omnibus:                        3.236   Durbin-Watson:                   1.871\n",
            "Prob(Omnibus):                  0.198   Jarque-Bera (JB):                2.876\n",
            "Skew:                           0.262   Prob(JB):                        0.237\n",
            "Kurtosis:                       2.533   Cond. No.                         63.1\n",
            "==============================================================================\n",
            "\n",
            "Warnings:\n",
            "[1] Standard Errors assume that the covariance matrix of the errors is correctly specified.\n"
          ],
          "name": "stdout"
        }
      ]
    },
    {
      "metadata": {
        "id": "WiWEp2cyt9NC",
        "colab_type": "code",
        "outputId": "ed1bdda0-2e41-4ff9-a8b6-45e7cf2d48b2",
        "colab": {
          "base_uri": "https://localhost:8080/",
          "height": 53
        }
      },
      "cell_type": "code",
      "source": [
        "y_pred = lm_model.predict(x_test)\n",
        "\n",
        "r2score = r2_score(y_test, y_pred)\n",
        "print(r2score)\n",
        "\n",
        "\n",
        "rmse = np.sqrt(mean_squared_error(y_test, y_pred))\n",
        "print(rmse)\n",
        "\n",
        "r2score_dict['Sales ~ Newspaper'] = r2score\n",
        "rmse_dict['Sales ~ Newspaper'] = rmse"
      ],
      "execution_count": 0,
      "outputs": [
        {
          "output_type": "stream",
          "text": [
            "0.03328776792238508\n",
            "5.021361141112134\n"
          ],
          "name": "stdout"
        }
      ]
    },
    {
      "metadata": {
        "id": "ZRQw24eRtjgY",
        "colab_type": "code",
        "outputId": "346dd818-3e1b-4875-c1c6-b5fc220dec54",
        "colab": {
          "base_uri": "https://localhost:8080/",
          "height": 557
        }
      },
      "cell_type": "code",
      "source": [
        "import statsmodels.formula.api as sm\n",
        "\n",
        "lm_model = sm.ols(formula='Sales ~ TV + Radio', \n",
        "                  data=new_data).fit()\n",
        "\n",
        "print(lm_model.params)\n",
        "print(lm_model.summary())"
      ],
      "execution_count": 0,
      "outputs": [
        {
          "output_type": "stream",
          "text": [
            "Intercept    2.824559\n",
            "TV           0.045850\n",
            "Radio        0.191182\n",
            "dtype: float64\n",
            "                            OLS Regression Results                            \n",
            "==============================================================================\n",
            "Dep. Variable:                  Sales   R-squared:                       0.894\n",
            "Model:                            OLS   Adj. R-squared:                  0.893\n",
            "Method:                 Least Squares   F-statistic:                     579.3\n",
            "Date:                Sun, 27 Jan 2019   Prob (F-statistic):           1.45e-67\n",
            "Time:                        21:08:06   Log-Likelihood:                -273.39\n",
            "No. Observations:                 140   AIC:                             552.8\n",
            "Df Residuals:                     137   BIC:                             561.6\n",
            "Df Model:                           2                                         \n",
            "Covariance Type:            nonrobust                                         \n",
            "==============================================================================\n",
            "                 coef    std err          t      P>|t|      [0.025      0.975]\n",
            "------------------------------------------------------------------------------\n",
            "Intercept      2.8246      0.361      7.831      0.000       2.111       3.538\n",
            "TV             0.0459      0.002     26.995      0.000       0.042       0.049\n",
            "Radio          0.1912      0.010     19.215      0.000       0.172       0.211\n",
            "==============================================================================\n",
            "Omnibus:                       52.377   Durbin-Watson:                   1.991\n",
            "Prob(Omnibus):                  0.000   Jarque-Bera (JB):              148.779\n",
            "Skew:                          -1.460   Prob(JB):                     4.93e-33\n",
            "Kurtosis:                       7.120   Cond. No.                         424.\n",
            "==============================================================================\n",
            "\n",
            "Warnings:\n",
            "[1] Standard Errors assume that the covariance matrix of the errors is correctly specified.\n"
          ],
          "name": "stdout"
        }
      ]
    },
    {
      "metadata": {
        "id": "08mpGMFNti5w",
        "colab_type": "code",
        "outputId": "5c883696-5737-4a34-faea-c60aa7e72777",
        "colab": {
          "base_uri": "https://localhost:8080/",
          "height": 53
        }
      },
      "cell_type": "code",
      "source": [
        "y_pred = lm_model.predict(x_test)\n",
        "\n",
        "r2score = r2_score(y_test, y_pred)\n",
        "print(r2score)\n",
        "\n",
        "\n",
        "rmse = np.sqrt(mean_squared_error(y_test, y_pred))\n",
        "print(rmse)\n",
        "\n",
        "r2score_dict['Sales ~ TV + Radio'] = r2score\n",
        "rmse_dict['Sales ~ TV + Radio'] = rmse"
      ],
      "execution_count": 0,
      "outputs": [
        {
          "output_type": "stream",
          "text": [
            "0.9040425093988959\n",
            "1.5820211727125646\n"
          ],
          "name": "stdout"
        }
      ]
    },
    {
      "metadata": {
        "id": "jiy9TOuiuVlj",
        "colab_type": "code",
        "outputId": "5667dbb8-8943-4c3b-8080-5abaec509bef",
        "colab": {
          "base_uri": "https://localhost:8080/",
          "height": 557
        }
      },
      "cell_type": "code",
      "source": [
        "import statsmodels.formula.api as sm\n",
        "\n",
        "lm_model = sm.ols(formula='Sales ~ TV + Newspaper', \n",
        "                  data=new_data).fit()\n",
        "\n",
        "print(lm_model.params)\n",
        "print(lm_model.summary())"
      ],
      "execution_count": 0,
      "outputs": [
        {
          "output_type": "stream",
          "text": [
            "Intercept    5.647804\n",
            "TV           0.046908\n",
            "Newspaper    0.049139\n",
            "dtype: float64\n",
            "                            OLS Regression Results                            \n",
            "==============================================================================\n",
            "Dep. Variable:                  Sales   R-squared:                       0.647\n",
            "Model:                            OLS   Adj. R-squared:                  0.641\n",
            "Method:                 Least Squares   F-statistic:                     125.3\n",
            "Date:                Sun, 27 Jan 2019   Prob (F-statistic):           1.14e-31\n",
            "Time:                        21:08:06   Log-Likelihood:                -357.85\n",
            "No. Observations:                 140   AIC:                             721.7\n",
            "Df Residuals:                     137   BIC:                             730.5\n",
            "Df Model:                           2                                         \n",
            "Covariance Type:            nonrobust                                         \n",
            "==============================================================================\n",
            "                 coef    std err          t      P>|t|      [0.025      0.975]\n",
            "------------------------------------------------------------------------------\n",
            "Intercept      5.6478      0.635      8.899      0.000       4.393       6.903\n",
            "TV             0.0469      0.003     15.100      0.000       0.041       0.053\n",
            "Newspaper      0.0491      0.013      3.804      0.000       0.024       0.075\n",
            "==============================================================================\n",
            "Omnibus:                        1.103   Durbin-Watson:                   1.951\n",
            "Prob(Omnibus):                  0.576   Jarque-Bera (JB):                0.730\n",
            "Skew:                          -0.147   Prob(JB):                        0.694\n",
            "Kurtosis:                       3.196   Cond. No.                         410.\n",
            "==============================================================================\n",
            "\n",
            "Warnings:\n",
            "[1] Standard Errors assume that the covariance matrix of the errors is correctly specified.\n"
          ],
          "name": "stdout"
        }
      ]
    },
    {
      "metadata": {
        "id": "5mWxMYvSuVVW",
        "colab_type": "code",
        "outputId": "1df4d127-a867-458a-e2f4-6c58d97e0945",
        "colab": {
          "base_uri": "https://localhost:8080/",
          "height": 53
        }
      },
      "cell_type": "code",
      "source": [
        "y_pred = lm_model.predict(x_test)\n",
        "\n",
        "r2score = r2_score(y_test, y_pred)\n",
        "print(r2score)\n",
        "\n",
        "\n",
        "rmse = np.sqrt(mean_squared_error(y_test, y_pred))\n",
        "print(rmse)\n",
        "\n",
        "r2score_dict['Sales ~ TV + Newspaper'] = r2score\n",
        "rmse_dict['Sales ~ TV + Newspaper'] = rmse"
      ],
      "execution_count": 0,
      "outputs": [
        {
          "output_type": "stream",
          "text": [
            "0.6421740770665469\n",
            "3.054982666707557\n"
          ],
          "name": "stdout"
        }
      ]
    },
    {
      "metadata": {
        "id": "r11Z8r1QuT9F",
        "colab_type": "code",
        "outputId": "7ec52ad0-1636-49fd-a85c-43f6fcb94d11",
        "colab": {
          "base_uri": "https://localhost:8080/",
          "height": 557
        }
      },
      "cell_type": "code",
      "source": [
        "import statsmodels.formula.api as sm\n",
        "\n",
        "lm_model = sm.ols(formula='Sales ~ Radio + Newspaper', \n",
        "                  data=new_data).fit()\n",
        "\n",
        "print(lm_model.params)\n",
        "print(lm_model.summary())"
      ],
      "execution_count": 0,
      "outputs": [
        {
          "output_type": "stream",
          "text": [
            "Intercept    8.949669\n",
            "Radio        0.199551\n",
            "Newspaper    0.013527\n",
            "dtype: float64\n",
            "                            OLS Regression Results                            \n",
            "==============================================================================\n",
            "Dep. Variable:                  Sales   R-squared:                       0.334\n",
            "Model:                            OLS   Adj. R-squared:                  0.325\n",
            "Method:                 Least Squares   F-statistic:                     34.40\n",
            "Date:                Sun, 27 Jan 2019   Prob (F-statistic):           7.82e-13\n",
            "Time:                        21:08:06   Log-Likelihood:                -402.18\n",
            "No. Observations:                 140   AIC:                             810.4\n",
            "Df Residuals:                     137   BIC:                             819.2\n",
            "Df Model:                           2                                         \n",
            "Covariance Type:            nonrobust                                         \n",
            "==============================================================================\n",
            "                 coef    std err          t      P>|t|      [0.025      0.975]\n",
            "------------------------------------------------------------------------------\n",
            "Intercept      8.9497      0.768     11.653      0.000       7.431      10.468\n",
            "Radio          0.1996      0.026      7.535      0.000       0.147       0.252\n",
            "Newspaper      0.0135      0.019      0.720      0.473      -0.024       0.051\n",
            "==============================================================================\n",
            "Omnibus:                       16.177   Durbin-Watson:                   1.737\n",
            "Prob(Omnibus):                  0.000   Jarque-Bera (JB):               17.992\n",
            "Skew:                          -0.824   Prob(JB):                     0.000124\n",
            "Kurtosis:                       3.605   Cond. No.                         90.7\n",
            "==============================================================================\n",
            "\n",
            "Warnings:\n",
            "[1] Standard Errors assume that the covariance matrix of the errors is correctly specified.\n"
          ],
          "name": "stdout"
        }
      ]
    },
    {
      "metadata": {
        "id": "Nk4rrktvuTvi",
        "colab_type": "code",
        "outputId": "54eef224-3fc8-43ed-f107-ad3ff7ca4956",
        "colab": {
          "base_uri": "https://localhost:8080/",
          "height": 53
        }
      },
      "cell_type": "code",
      "source": [
        "y_pred = lm_model.predict(x_test)\n",
        "\n",
        "r2score = r2_score(y_test, y_pred)\n",
        "print(r2score)\n",
        "\n",
        "\n",
        "rmse = np.sqrt(mean_squared_error(y_test, y_pred))\n",
        "print(rmse)\n",
        "\n",
        "r2score_dict['Sales ~ Radio + Newspaper'] = r2score\n",
        "rmse_dict['Sales ~ Radio + Newspaper'] = rmse"
      ],
      "execution_count": 0,
      "outputs": [
        {
          "output_type": "stream",
          "text": [
            "0.32530114588388337\n",
            "4.194960122105913\n"
          ],
          "name": "stdout"
        }
      ]
    },
    {
      "metadata": {
        "id": "rV0Oa2DAtJgs",
        "colab_type": "code",
        "outputId": "7cf1a020-b14b-4cfb-b7ea-b638d84c9837",
        "colab": {
          "base_uri": "https://localhost:8080/",
          "height": 593
        }
      },
      "cell_type": "code",
      "source": [
        "import statsmodels.formula.api as sm\n",
        "\n",
        "lm_model = sm.ols(formula='Sales ~ TV + Radio + Newspaper', \n",
        "                  data=new_data).fit()\n",
        "\n",
        "print(lm_model.params)\n",
        "print(lm_model.summary())"
      ],
      "execution_count": 0,
      "outputs": [
        {
          "output_type": "stream",
          "text": [
            "Intercept    2.755362\n",
            "TV           0.045807\n",
            "Radio        0.189271\n",
            "Newspaper    0.004046\n",
            "dtype: float64\n",
            "                            OLS Regression Results                            \n",
            "==============================================================================\n",
            "Dep. Variable:                  Sales   R-squared:                       0.894\n",
            "Model:                            OLS   Adj. R-squared:                  0.892\n",
            "Method:                 Least Squares   F-statistic:                     384.3\n",
            "Date:                Sun, 27 Jan 2019   Prob (F-statistic):           3.41e-66\n",
            "Time:                        21:08:06   Log-Likelihood:                -273.24\n",
            "No. Observations:                 140   AIC:                             554.5\n",
            "Df Residuals:                     136   BIC:                             566.3\n",
            "Df Model:                           3                                         \n",
            "Covariance Type:            nonrobust                                         \n",
            "==============================================================================\n",
            "                 coef    std err          t      P>|t|      [0.025      0.975]\n",
            "------------------------------------------------------------------------------\n",
            "Intercept      2.7554      0.384      7.179      0.000       1.996       3.514\n",
            "TV             0.0458      0.002     26.870      0.000       0.042       0.049\n",
            "Radio          0.1893      0.011     17.874      0.000       0.168       0.210\n",
            "Newspaper      0.0040      0.008      0.538      0.591      -0.011       0.019\n",
            "==============================================================================\n",
            "Omnibus:                       50.837   Durbin-Watson:                   1.986\n",
            "Prob(Omnibus):                  0.000   Jarque-Bera (JB):              137.601\n",
            "Skew:                          -1.437   Prob(JB):                     1.32e-30\n",
            "Kurtosis:                       6.915   Cond. No.                         455.\n",
            "==============================================================================\n",
            "\n",
            "Warnings:\n",
            "[1] Standard Errors assume that the covariance matrix of the errors is correctly specified.\n"
          ],
          "name": "stdout"
        }
      ]
    },
    {
      "metadata": {
        "id": "_OmyJ1E3DjcZ",
        "colab_type": "code",
        "outputId": "24ffa624-71e4-4a4f-cd12-0016757bebce",
        "colab": {
          "base_uri": "https://localhost:8080/",
          "height": 233
        }
      },
      "cell_type": "code",
      "source": [
        "print(x_test.head())\n",
        "print(new_data.head())"
      ],
      "execution_count": 0,
      "outputs": [
        {
          "output_type": "stream",
          "text": [
            "        TV  Radio  Newspaper\n",
            "165  117.2   14.7        5.4\n",
            "89    88.3   25.5       73.4\n",
            "62   261.3   42.7       54.7\n",
            "116   75.1   35.0       52.7\n",
            "147  240.1    7.3        8.7\n",
            "        TV  Radio  Newspaper  Sales\n",
            "16   195.4   47.7       52.9   22.4\n",
            "150   44.7   25.8       20.6   10.1\n",
            "57     7.3   28.1       41.4    5.5\n",
            "194  166.8   42.0        3.6   19.6\n",
            "108   90.4    0.3       23.2    8.7\n"
          ],
          "name": "stdout"
        }
      ]
    },
    {
      "metadata": {
        "id": "IdoMZKdGtWWA",
        "colab_type": "code",
        "outputId": "30604792-5e25-4fe8-a299-51feae3a9e16",
        "colab": {
          "base_uri": "https://localhost:8080/",
          "height": 53
        }
      },
      "cell_type": "code",
      "source": [
        "y_pred = lm_model.predict(x_test)\n",
        "\n",
        "r2score = r2_score(y_test, y_pred)\n",
        "print(r2score)\n",
        "\n",
        "\n",
        "rmse = np.sqrt(mean_squared_error(y_test, y_pred))\n",
        "print(rmse)\n",
        "\n",
        "r2score_dict['Sales ~ TV + Radio + Newspaper'] = r2score\n",
        "rmse_dict['Sales ~ TV + Radio + Newspaper'] = rmse"
      ],
      "execution_count": 0,
      "outputs": [
        {
          "output_type": "stream",
          "text": [
            "0.9021598465364911\n",
            "1.5974652257775326\n"
          ],
          "name": "stdout"
        }
      ]
    },
    {
      "metadata": {
        "id": "PcgVsEWe-tZ1",
        "colab_type": "code",
        "outputId": "fe18fd13-1f2d-46f3-e809-3820910c0ecc",
        "colab": {
          "base_uri": "https://localhost:8080/",
          "height": 420
        }
      },
      "cell_type": "code",
      "source": [
        "def plot_rmse():\n",
        "    # this is for plotting purpose\n",
        "    index = np.arange(len(list(rmse_dict.values())))\n",
        "    plt.bar(index, list(rmse_dict.values()))\n",
        "    plt.xlabel('Regression relation', fontsize=12)\n",
        "    plt.ylabel('rmse value', fontsize=12)\n",
        "    plt.xticks(index, list(rmse_dict.keys()), fontsize=9, rotation=90)\n",
        "    plt.title('rmse value of different regression models')\n",
        "    plt.show()\n",
        "\n",
        "plot_rmse()\n"
      ],
      "execution_count": 0,
      "outputs": [
        {
          "output_type": "display_data",
          "data": {
            "image/png": "[encoded data removed]",
            "text/plain": [
              "<Figure size 432x288 with 1 Axes>"
            ]
          },
          "metadata": {
            "tags": []
          }
        }
      ]
    },
    {
      "metadata": {
        "id": "nLvd34UkCs-s",
        "colab_type": "code",
        "outputId": "081b9ea9-3455-44bd-989b-0903868e7fe6",
        "colab": {
          "base_uri": "https://localhost:8080/",
          "height": 420
        }
      },
      "cell_type": "code",
      "source": [
        "def plot_r2score():\n",
        "    # this is for plotting purpose\n",
        "    index = np.arange(len(list(r2score_dict.values())))\n",
        "    plt.bar(index, list(r2score_dict.values()))\n",
        "    plt.xlabel('Regression relation', fontsize=12)\n",
        "    plt.ylabel('r2score value', fontsize=12)\n",
        "    plt.xticks(index, list(r2score_dict.keys()), fontsize=9, rotation=90)\n",
        "    plt.title('r2score value of different regression models')\n",
        "    plt.show()\n",
        "\n",
        "plot_r2score()"
      ],
      "execution_count": 0,
      "outputs": [
        {
          "output_type": "display_data",
          "data": {
            "image/png": "[encoded data removed]",
            "text/plain": [
              "<Figure size 432x288 with 1 Axes>"
            ]
          },
          "metadata": {
            "tags": []
          }
        }
      ]
    },
    {
      "metadata": {
        "id": "XN7gYUdaLj0W",
        "colab_type": "code",
        "colab": {}
      },
      "cell_type": "code",
      "source": [
        "# so We select the features T.V and Radio"
      ],
      "execution_count": 0,
      "outputs": []
    }
  ]
}