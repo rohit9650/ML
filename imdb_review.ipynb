{
  "nbformat": 4,
  "nbformat_minor": 0,
  "metadata": {
    "colab": {
      "name": "imdb_review.ipynb",
      "version": "0.3.2",
      "provenance": [],
      "collapsed_sections": []
    },
    "kernelspec": {
      "name": "python3",
      "display_name": "Python 3"
    }
  },
  "cells": [
    {
      "metadata": {
        "id": "O5kisChEPp5A",
        "colab_type": "code",
        "colab": {}
      },
      "cell_type": "code",
      "source": [
        "from keras.datasets import imdb\n",
        "(train_data, train_labels), (test_data, test_labels) = imdb.load_data(num_words = 10000)"
      ],
      "execution_count": 0,
      "outputs": []
    },
    {
      "metadata": {
        "id": "r2hGqCTQVTtV",
        "colab_type": "code",
        "outputId": "e4dd701c-2224-4ac4-9a3c-9220ad7e337e",
        "colab": {
          "base_uri": "https://localhost:8080/",
          "height": 55
        }
      },
      "cell_type": "code",
      "source": [
        "word_index = imdb.get_word_index()\n",
        "reverse_word_index = dict([(value, key) for (key, value) in word_index.items()])\n",
        "decoded_review = ' '.join([reverse_word_index.get(i-3, '?') for i in train_data[0]])\n",
        "print(decoded_review)"
      ],
      "execution_count": 0,
      "outputs": [
        {
          "output_type": "stream",
          "text": [
            "? this film was just brilliant casting location scenery story direction everyone's really suited the part they played and you could just imagine being there robert ? is an amazing actor and now the same being director ? father came from the same scottish island as myself so i loved the fact there was a real connection with this film the witty remarks throughout the film were great it was just brilliant so much that i bought the film as soon as it was released for ? and would recommend it to everyone to watch and the fly fishing was amazing really cried at the end it was so sad and you know what they say if you cry at a film it must have been good and this definitely was also ? to the two little boy's that played the ? of norman and paul they were just brilliant children are often left out of the ? list i think because the stars that play them all grown up are such a big profile for the whole film but these children are amazing and should be praised for what they have done don't you think the whole story was so lovely because it was true and was someone's life after all that was shared with us all\n"
          ],
          "name": "stdout"
        }
      ]
    },
    {
      "metadata": {
        "id": "lY1du6u3Ykfo",
        "colab_type": "code",
        "outputId": "ba2ec915-d03f-458e-f7b1-9d96422c9e84",
        "colab": {
          "base_uri": "https://localhost:8080/",
          "height": 35
        }
      },
      "cell_type": "code",
      "source": [
        "import numpy as np\n",
        "def vectorize_sequences(sequences, dimension=10000):\n",
        "  results = np.zeros((len(sequences), dimension))\n",
        "  for i, sequence in enumerate(sequences):\n",
        "    results[i, sequence] = 1\n",
        "  return results\n",
        "\n",
        "x_train = vectorize_sequences(train_data)\n",
        "x_test = vectorize_sequences(test_data)"
      ],
      "execution_count": 0,
      "outputs": [
        {
          "output_type": "stream",
          "text": [
            "(25000, 10000)\n"
          ],
          "name": "stdout"
        }
      ]
    },
    {
      "metadata": {
        "id": "6-aL-SMKag6O",
        "colab_type": "code",
        "colab": {}
      },
      "cell_type": "code",
      "source": [
        "y_train = np.asarray(train_labels).astype('float32')\n",
        "y_test = np.asarray(test_labels).astype('float32')"
      ],
      "execution_count": 0,
      "outputs": []
    },
    {
      "metadata": {
        "id": "IrX-6hRxWG0W",
        "colab_type": "code",
        "cellView": "both",
        "colab": {}
      },
      "cell_type": "code",
      "source": [
        "#@title\n",
        "from keras import models\n",
        "from keras import layers\n",
        "\n",
        "model = models.Sequential()\n",
        "model.add(layers.Dense(16, activation='relu', input_shape=(10000,)))\n",
        "model.add(layers.Dense(16, activation='relu'))\n",
        "model.add(layers.Dense(1, activation='sigmoid'))\n",
        "\n",
        "model.compile(optimizer='rmsprop',\n",
        "             loss='binary_crossentropy',\n",
        "             metrics=['acc'])"
      ],
      "execution_count": 0,
      "outputs": []
    },
    {
      "metadata": {
        "id": "e4TQvY8haV-P",
        "colab_type": "code",
        "outputId": "fe06fcd9-ac8d-47bd-ff7e-9d435375b764",
        "colab": {
          "base_uri": "https://localhost:8080/",
          "height": 755
        }
      },
      "cell_type": "code",
      "source": [
        "x_val = x_train[:10000]\n",
        "partial_x_train = x_train[10000:]\n",
        "\n",
        "y_val = y_train[:10000]\n",
        "partial_y_train = y_train[10000:]\n",
        "\n",
        "history = model.fit(partial_x_train,\n",
        "                   partial_y_train,\n",
        "                   epochs=20,\n",
        "                   batch_size=512,\n",
        "                   validation_data=(x_val, y_val))"
      ],
      "execution_count": 0,
      "outputs": [
        {
          "output_type": "stream",
          "text": [
            "Train on 15000 samples, validate on 10000 samples\n",
            "Epoch 1/20\n",
            "15000/15000 [==============================] - 3s 189us/step - loss: 0.5341 - acc: 0.7895 - val_loss: 0.4083 - val_acc: 0.8683\n",
            "Epoch 2/20\n",
            "15000/15000 [==============================] - 2s 144us/step - loss: 0.3272 - acc: 0.8983 - val_loss: 0.3160 - val_acc: 0.8842\n",
            "Epoch 3/20\n",
            "15000/15000 [==============================] - 2s 144us/step - loss: 0.2365 - acc: 0.9240 - val_loss: 0.2831 - val_acc: 0.8897\n",
            "Epoch 4/20\n",
            "15000/15000 [==============================] - 2s 145us/step - loss: 0.1874 - acc: 0.9391 - val_loss: 0.2867 - val_acc: 0.8838\n",
            "Epoch 5/20\n",
            "15000/15000 [==============================] - 2s 144us/step - loss: 0.1509 - acc: 0.9519 - val_loss: 0.2767 - val_acc: 0.8887\n",
            "Epoch 6/20\n",
            "15000/15000 [==============================] - 2s 145us/step - loss: 0.1263 - acc: 0.9614 - val_loss: 0.3123 - val_acc: 0.8797\n",
            "Epoch 7/20\n",
            "15000/15000 [==============================] - 2s 145us/step - loss: 0.1052 - acc: 0.9683 - val_loss: 0.3115 - val_acc: 0.8846\n",
            "Epoch 8/20\n",
            "15000/15000 [==============================] - 2s 144us/step - loss: 0.0878 - acc: 0.9746 - val_loss: 0.3221 - val_acc: 0.8811\n",
            "Epoch 9/20\n",
            "15000/15000 [==============================] - 2s 144us/step - loss: 0.0741 - acc: 0.9792 - val_loss: 0.3502 - val_acc: 0.8832\n",
            "Epoch 10/20\n",
            "15000/15000 [==============================] - 2s 144us/step - loss: 0.0602 - acc: 0.9851 - val_loss: 0.3958 - val_acc: 0.8749\n",
            "Epoch 11/20\n",
            "15000/15000 [==============================] - 2s 143us/step - loss: 0.0515 - acc: 0.9862 - val_loss: 0.3899 - val_acc: 0.8786\n",
            "Epoch 12/20\n",
            "15000/15000 [==============================] - 2s 142us/step - loss: 0.0405 - acc: 0.9911 - val_loss: 0.4184 - val_acc: 0.8747\n",
            "Epoch 13/20\n",
            "15000/15000 [==============================] - 2s 144us/step - loss: 0.0344 - acc: 0.9928 - val_loss: 0.4466 - val_acc: 0.8722\n",
            "Epoch 14/20\n",
            "15000/15000 [==============================] - 2s 144us/step - loss: 0.0286 - acc: 0.9939 - val_loss: 0.4720 - val_acc: 0.8737\n",
            "Epoch 15/20\n",
            "15000/15000 [==============================] - 2s 142us/step - loss: 0.0244 - acc: 0.9947 - val_loss: 0.5035 - val_acc: 0.8709\n",
            "Epoch 16/20\n",
            "15000/15000 [==============================] - 2s 145us/step - loss: 0.0160 - acc: 0.9981 - val_loss: 0.5734 - val_acc: 0.8596\n",
            "Epoch 17/20\n",
            "15000/15000 [==============================] - 2s 143us/step - loss: 0.0162 - acc: 0.9975 - val_loss: 0.5622 - val_acc: 0.8695\n",
            "Epoch 18/20\n",
            "15000/15000 [==============================] - 2s 144us/step - loss: 0.0093 - acc: 0.9994 - val_loss: 0.6696 - val_acc: 0.8532\n",
            "Epoch 19/20\n",
            "15000/15000 [==============================] - 2s 144us/step - loss: 0.0103 - acc: 0.9993 - val_loss: 0.6364 - val_acc: 0.8660\n",
            "Epoch 20/20\n",
            "15000/15000 [==============================] - 2s 144us/step - loss: 0.0075 - acc: 0.9991 - val_loss: 0.6706 - val_acc: 0.8651\n"
          ],
          "name": "stdout"
        }
      ]
    },
    {
      "metadata": {
        "id": "at-_P7mYibIV",
        "colab_type": "code",
        "outputId": "c27b33c0-f3d5-44b6-fe42-8ee6c9ff8e02",
        "colab": {
          "base_uri": "https://localhost:8080/",
          "height": 376
        }
      },
      "cell_type": "code",
      "source": [
        "import matplotlib.pyplot as plt\n",
        "\n",
        "history_dict = history.history\n",
        "\n",
        "loss_values = history_dict['loss']\n",
        "val_loss_values = history_dict['val_loss']\n",
        "\n",
        "epochs = range(1, len(history_dict['acc'])+1)\n",
        "\n",
        "plt.plot(epochs, loss_values, 'bo', label=\"Training loss\")\n",
        "plt.plot(epochs, val_loss_values, 'b', label='Validation loss')\n",
        "plt.title('Training and Validation loss')\n",
        "plt.xlabel('Epochs')\n",
        "plt.ylabel('Loss')\n",
        "\n",
        "plt.legend()\n",
        "plt.show()"
      ],
      "execution_count": 0,
      "outputs": [
        {
          "output_type": "display_data",
          "data": {
            "image/png": "[encoded data removed]",
            "text/plain": [
              "<matplotlib.figure.Figure at 0x7f87503a8358>"
            ]
          },
          "metadata": {
            "tags": []
          }
        }
      ]
    },
    {
      "metadata": {
        "id": "x29tJqqIkej8",
        "colab_type": "code",
        "outputId": "2124f846-2e9b-4e1b-83b4-7b79bd3c4e99",
        "colab": {
          "base_uri": "https://localhost:8080/",
          "height": 376
        }
      },
      "cell_type": "code",
      "source": [
        "train_acc = history_dict['acc']\n",
        "val_acc = history_dict['val_acc']\n",
        "\n",
        "plt.plot(epochs, train_acc, 'bo', label='Training accuracy')\n",
        "plt.plot(epochs, val_acc, 'b', label='Validation accuracy')\n",
        "plt.title('Training and Validation accuracy')\n",
        "plt.xlabel('Epochs')\n",
        "plt.ylabel('Accuracy')\n",
        "\n",
        "plt.legend()\n",
        "plt.show()"
      ],
      "execution_count": 0,
      "outputs": [
        {
          "output_type": "display_data",
          "data": {
            "image/png": "[encoded data removed]",
            "text/plain": [
              "<matplotlib.figure.Figure at 0x7f87504fd780>"
            ]
          },
          "metadata": {
            "tags": []
          }
        }
      ]
    },
    {
      "metadata": {
        "id": "h-04fAFzmHcr",
        "colab_type": "code",
        "outputId": "13440888-c633-4008-c7d6-a11239336046",
        "colab": {
          "base_uri": "https://localhost:8080/",
          "height": 233
        }
      },
      "cell_type": "code",
      "source": [
        "results = model.evaluate(x_test, y_test)\n",
        "print(results)\n",
        "\n",
        "model.fit(x_train, y_train, epochs=4, batch_size=512)\n",
        "\n",
        "results = model.evaluate(x_test, y_test)\n",
        "print(results)"
      ],
      "execution_count": 0,
      "outputs": [
        {
          "output_type": "stream",
          "text": [
            "25000/25000 [==============================] - 2s 83us/step\n",
            "[0.7370678890943527, 0.84996]\n",
            "Epoch 1/4\n",
            "25000/25000 [==============================] - 3s 120us/step - loss: 0.2371 - acc: 0.9454\n",
            "Epoch 2/4\n",
            "25000/25000 [==============================] - 3s 106us/step - loss: 0.1424 - acc: 0.9592\n",
            "Epoch 3/4\n",
            "25000/25000 [==============================] - 3s 104us/step - loss: 0.1136 - acc: 0.9670\n",
            "Epoch 4/4\n",
            "25000/25000 [==============================] - 3s 103us/step - loss: 0.0932 - acc: 0.9727\n",
            "25000/25000 [==============================] - 2s 84us/step\n",
            "[0.5023260688352584, 0.85268]\n"
          ],
          "name": "stdout"
        }
      ]
    }
  ]
}