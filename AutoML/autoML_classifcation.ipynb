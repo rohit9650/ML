{
  "nbformat": 4,
  "nbformat_minor": 0,
  "metadata": {
    "colab": {
      "name": "autoML_classifcation.ipynb",
      "version": "0.3.2",
      "provenance": [],
      "include_colab_link": true
    },
    "kernelspec": {
      "name": "python3",
      "display_name": "Python 3"
    },
    "accelerator": "GPU"
  },
  "cells": [
    {
      "cell_type": "markdown",
      "metadata": {
        "id": "view-in-github",
        "colab_type": "text"
      },
      "source": [
        "<a href=\"https://colab.research.google.com/github/rohit9650/ML/blob/master/AutoML/autoML_classifcation.ipynb\" target=\"_parent\"><img src=\"https://colab.research.google.com/assets/colab-badge.svg\" alt=\"Open In Colab\"/></a>"
      ]
    },
    {
      "metadata": {
        "id": "fXZ8x5gUpiaL",
        "colab_type": "code",
        "colab": {
          "base_uri": "https://localhost:8080/",
          "height": 577
        },
        "outputId": "f0eca6c4-ebfc-4fc8-e1ce-f935e9f64481"
      },
      "cell_type": "code",
      "source": [
        "# installing H2O\n",
        "!pip install requests\n",
        "!pip install tabulate\n",
        "!pip install \"colorama>=0.3.8\"\n",
        "!pip install future\n",
        "!pip install -f http://h2o-release.s3.amazonaws.com/h2o/latest_stable_Py.html h2o"
      ],
      "execution_count": 3,
      "outputs": [
        {
          "output_type": "stream",
          "text": [
            "Requirement already satisfied: requests in /usr/local/lib/python3.6/dist-packages (2.18.4)\n",
            "Requirement already satisfied: urllib3<1.23,>=1.21.1 in /usr/local/lib/python3.6/dist-packages (from requests) (1.22)\n",
            "Requirement already satisfied: idna<2.7,>=2.5 in /usr/local/lib/python3.6/dist-packages (from requests) (2.6)\n",
            "Requirement already satisfied: certifi>=2017.4.17 in /usr/local/lib/python3.6/dist-packages (from requests) (2018.11.29)\n",
            "Requirement already satisfied: chardet<3.1.0,>=3.0.2 in /usr/local/lib/python3.6/dist-packages (from requests) (3.0.4)\n",
            "Requirement already satisfied: tabulate in /usr/local/lib/python3.6/dist-packages (0.8.3)\n",
            "Collecting colorama>=0.3.8\n",
            "  Downloading https://files.pythonhosted.org/packages/4f/a6/728666f39bfff1719fc94c481890b2106837da9318031f71a8424b662e12/colorama-0.4.1-py2.py3-none-any.whl\n",
            "Installing collected packages: colorama\n",
            "Successfully installed colorama-0.4.1\n",
            "Requirement already satisfied: future in /usr/local/lib/python3.6/dist-packages (0.16.0)\n",
            "Looking in links: http://h2o-release.s3.amazonaws.com/h2o/latest_stable_Py.html\n",
            "Collecting h2o\n",
            "\u001b[33m  The repository located at h2o-release.s3.amazonaws.com is not a trusted or secure host and is being ignored. If this repository is available via HTTPS we recommend you use HTTPS instead, otherwise you may silence this warning and allow it anyway with '--trusted-host h2o-release.s3.amazonaws.com'.\u001b[0m\n",
            "\u001b[?25l  Downloading https://files.pythonhosted.org/packages/2a/00/87db2f4c0a8797c0eddb122b7d99b6a007e59659b2eebf027ef28b75e2ce/h2o-3.22.1.3.tar.gz (120.9MB)\n",
            "\u001b[K    100% |████████████████████████████████| 120.9MB 214kB/s \n",
            "\u001b[?25hRequirement already satisfied: requests in /usr/local/lib/python3.6/dist-packages (from h2o) (2.18.4)\n",
            "Requirement already satisfied: tabulate in /usr/local/lib/python3.6/dist-packages (from h2o) (0.8.3)\n",
            "Requirement already satisfied: future in /usr/local/lib/python3.6/dist-packages (from h2o) (0.16.0)\n",
            "Requirement already satisfied: colorama>=0.3.8 in /usr/local/lib/python3.6/dist-packages (from h2o) (0.4.1)\n",
            "Requirement already satisfied: certifi>=2017.4.17 in /usr/local/lib/python3.6/dist-packages (from requests->h2o) (2018.11.29)\n",
            "Requirement already satisfied: idna<2.7,>=2.5 in /usr/local/lib/python3.6/dist-packages (from requests->h2o) (2.6)\n",
            "Requirement already satisfied: urllib3<1.23,>=1.21.1 in /usr/local/lib/python3.6/dist-packages (from requests->h2o) (1.22)\n",
            "Requirement already satisfied: chardet<3.1.0,>=3.0.2 in /usr/local/lib/python3.6/dist-packages (from requests->h2o) (3.0.4)\n",
            "Building wheels for collected packages: h2o\n",
            "  Building wheel for h2o (setup.py) ... \u001b[?25ldone\n",
            "\u001b[?25h  Stored in directory: /root/.cache/pip/wheels/5e/0b/27/9eb72d708a3e7d1780ba296cf50b165d6d7a8ba6638915d7fe\n",
            "Successfully built h2o\n",
            "Installing collected packages: h2o\n",
            "Successfully installed h2o-3.22.1.3\n"
          ],
          "name": "stdout"
        }
      ]
    },
    {
      "metadata": {
        "id": "HijvVYLeoxHq",
        "colab_type": "code",
        "colab": {
          "base_uri": "https://localhost:8080/",
          "height": 537
        },
        "outputId": "2042b21a-6c22-444b-e18d-ee3c40dd9de4"
      },
      "cell_type": "code",
      "source": [
        "#importing and intializing\n",
        "import h2o\n",
        "from h2o.automl import H2OAutoML\n",
        "h2o.init()"
      ],
      "execution_count": 4,
      "outputs": [
        {
          "output_type": "stream",
          "text": [
            "Checking whether there is an H2O instance running at http://localhost:54321..... not found.\n",
            "Attempting to start a local H2O server...\n",
            "  Java Version: openjdk version \"10.0.2\" 2018-07-17; OpenJDK Runtime Environment (build 10.0.2+13-Ubuntu-1ubuntu0.18.04.4); OpenJDK 64-Bit Server VM (build 10.0.2+13-Ubuntu-1ubuntu0.18.04.4, mixed mode)\n",
            "  Starting server from /usr/local/lib/python3.6/dist-packages/h2o/backend/bin/h2o.jar\n",
            "  Ice root: /tmp/tmpw3rom13x\n",
            "  JVM stdout: /tmp/tmpw3rom13x/h2o_unknownUser_started_from_python.out\n",
            "  JVM stderr: /tmp/tmpw3rom13x/h2o_unknownUser_started_from_python.err\n",
            "  Server is running at http://127.0.0.1:54321\n",
            "Connecting to H2O server at http://127.0.0.1:54321... successful.\n"
          ],
          "name": "stdout"
        },
        {
          "output_type": "display_data",
          "data": {
            "text/html": [
              "<div style=\"overflow:auto\"><table style=\"width:50%\"><tr><td>H2O cluster uptime:</td>\n",
              "<td>02 secs</td></tr>\n",
              "<tr><td>H2O cluster timezone:</td>\n",
              "<td>Etc/UTC</td></tr>\n",
              "<tr><td>H2O data parsing timezone:</td>\n",
              "<td>UTC</td></tr>\n",
              "<tr><td>H2O cluster version:</td>\n",
              "<td>3.22.1.3</td></tr>\n",
              "<tr><td>H2O cluster version age:</td>\n",
              "<td>15 days </td></tr>\n",
              "<tr><td>H2O cluster name:</td>\n",
              "<td>H2O_from_python_unknownUser_2ny3d7</td></tr>\n",
              "<tr><td>H2O cluster total nodes:</td>\n",
              "<td>1</td></tr>\n",
              "<tr><td>H2O cluster free memory:</td>\n",
              "<td>2.938 Gb</td></tr>\n",
              "<tr><td>H2O cluster total cores:</td>\n",
              "<td>2</td></tr>\n",
              "<tr><td>H2O cluster allowed cores:</td>\n",
              "<td>2</td></tr>\n",
              "<tr><td>H2O cluster status:</td>\n",
              "<td>accepting new members, healthy</td></tr>\n",
              "<tr><td>H2O connection url:</td>\n",
              "<td>http://127.0.0.1:54321</td></tr>\n",
              "<tr><td>H2O connection proxy:</td>\n",
              "<td>None</td></tr>\n",
              "<tr><td>H2O internal security:</td>\n",
              "<td>False</td></tr>\n",
              "<tr><td>H2O API Extensions:</td>\n",
              "<td>XGBoost, Algos, AutoML, Core V3, Core V4</td></tr>\n",
              "<tr><td>Python version:</td>\n",
              "<td>3.6.7 final</td></tr></table></div>"
            ],
            "text/plain": [
              "--------------------------  ----------------------------------------\n",
              "H2O cluster uptime:         02 secs\n",
              "H2O cluster timezone:       Etc/UTC\n",
              "H2O data parsing timezone:  UTC\n",
              "H2O cluster version:        3.22.1.3\n",
              "H2O cluster version age:    15 days\n",
              "H2O cluster name:           H2O_from_python_unknownUser_2ny3d7\n",
              "H2O cluster total nodes:    1\n",
              "H2O cluster free memory:    2.938 Gb\n",
              "H2O cluster total cores:    2\n",
              "H2O cluster allowed cores:  2\n",
              "H2O cluster status:         accepting new members, healthy\n",
              "H2O connection url:         http://127.0.0.1:54321\n",
              "H2O connection proxy:\n",
              "H2O internal security:      False\n",
              "H2O API Extensions:         XGBoost, Algos, AutoML, Core V3, Core V4\n",
              "Python version:             3.6.7 final\n",
              "--------------------------  ----------------------------------------"
            ]
          },
          "metadata": {
            "tags": []
          }
        }
      ]
    },
    {
      "metadata": {
        "id": "2JgwYNxrqINI",
        "colab_type": "code",
        "colab": {
          "base_uri": "https://localhost:8080/",
          "height": 35
        },
        "outputId": "4f0a22e2-7bc2-4dd5-bb7c-96f8a8488378"
      },
      "cell_type": "code",
      "source": [
        "import os\n",
        "'''\n",
        "For the AutoML binary classification demo, we use a subset of the Product \n",
        "Backorders dataset. The goal here is to predict whether or not a product\n",
        "will be put on backorder status, given a number of product metrics such\n",
        "as current inventory, transit time, demand forecasts and prior sales.\n",
        "'''\n",
        "data_path = \"https://github.com/h2oai/h2o-tutorials/raw/master/h2o-world-2017/automl/data/product_backorders.csv\"\n",
        "\n",
        "df = h2o.import_file(data_path)"
      ],
      "execution_count": 6,
      "outputs": [
        {
          "output_type": "stream",
          "text": [
            "Parse progress: |█████████████████████████████████████████████████████████| 100%\n"
          ],
          "name": "stdout"
        }
      ]
    },
    {
      "metadata": {
        "id": "JzagTxt5rH0M",
        "colab_type": "code",
        "colab": {
          "base_uri": "https://localhost:8080/",
          "height": 489
        },
        "outputId": "86a74980-b642-41fc-d54a-a703c7001c2d"
      },
      "cell_type": "code",
      "source": [
        "'''\n",
        "For classification the response should be encoded as categorical(factor\n",
        "or enum)\n",
        "'''\n",
        "\n",
        "df.describe()"
      ],
      "execution_count": 7,
      "outputs": [
        {
          "output_type": "stream",
          "text": [
            "Rows:19053\n",
            "Cols:23\n",
            "\n",
            "\n"
          ],
          "name": "stdout"
        },
        {
          "output_type": "display_data",
          "data": {
            "text/html": [
              "<table>\n",
              "<thead>\n",
              "<tr><th>       </th><th>sku              </th><th>national_inv      </th><th>lead_time        </th><th>in_transit_qty    </th><th>forecast_3_month  </th><th>forecast_6_month  </th><th>forecast_9_month  </th><th>sales_1_month     </th><th>sales_3_month     </th><th>sales_6_month     </th><th>sales_9_month    </th><th>min_bank         </th><th>potential_issue  </th><th>pieces_past_due   </th><th>perf_6_month_avg  </th><th>perf_12_month_avg  </th><th>local_bo_qty      </th><th>deck_risk  </th><th>oe_constraint  </th><th>ppap_risk  </th><th>stop_auto_buy  </th><th>rev_stop  </th><th>went_on_backorder  </th></tr>\n",
              "</thead>\n",
              "<tbody>\n",
              "<tr><td>type   </td><td>int              </td><td>int               </td><td>int              </td><td>int               </td><td>int               </td><td>int               </td><td>int               </td><td>int               </td><td>int               </td><td>int               </td><td>int              </td><td>int              </td><td>enum             </td><td>int               </td><td>real              </td><td>real               </td><td>int               </td><td>enum       </td><td>enum           </td><td>enum       </td><td>enum           </td><td>enum      </td><td>enum               </td></tr>\n",
              "<tr><td>mins   </td><td>1111620.0        </td><td>-1440.0           </td><td>0.0              </td><td>0.0               </td><td>0.0               </td><td>0.0               </td><td>0.0               </td><td>0.0               </td><td>0.0               </td><td>0.0               </td><td>0.0              </td><td>0.0              </td><td>                 </td><td>0.0               </td><td>-99.0             </td><td>-99.0              </td><td>0.0               </td><td>           </td><td>               </td><td>           </td><td>               </td><td>          </td><td>                   </td></tr>\n",
              "<tr><td>mean   </td><td>2059552.76056264 </td><td>376.36702881436014</td><td>7.706036161335188</td><td>48.272345562378625</td><td>182.91082769117727</td><td>344.739830997743  </td><td>497.79242114102766</td><td>56.11887891670605 </td><td>168.53445651603428</td><td>333.53219965359773</td><td>504.2553928515193</td><td>48.84070750013117</td><td>                 </td><td>2.3114995013908572</td><td>-6.519833622001783</td><td>-6.05393533826694  </td><td>0.8917755734005144</td><td>           </td><td>               </td><td>           </td><td>               </td><td>          </td><td>                   </td></tr>\n",
              "<tr><td>maxs   </td><td>3284775.0        </td><td>730722.0          </td><td>52.0             </td><td>170920.0          </td><td>479808.0          </td><td>967776.0          </td><td>1418208.0         </td><td>186451.0          </td><td>550609.0          </td><td>1136154.0         </td><td>1759152.0        </td><td>85584.0          </td><td>                 </td><td>13824.0           </td><td>1.0               </td><td>1.0                </td><td>1440.0            </td><td>           </td><td>               </td><td>           </td><td>               </td><td>          </td><td>                   </td></tr>\n",
              "<tr><td>sigma  </td><td>663337.6456498688</td><td>7002.071628662688 </td><td>6.778665072124189</td><td>1465.9992102068293</td><td>4304.865591970626 </td><td>8406.062155159243 </td><td>12180.570042918358</td><td>1544.2177775482573</td><td>4581.340080221506 </td><td>9294.566153218986 </td><td>14184.14539565363</td><td>968.7738680675265</td><td>                 </td><td>110.24106014611986</td><td>25.975138766871876</td><td>25.184497150032527 </td><td>23.033345417338797</td><td>           </td><td>               </td><td>           </td><td>               </td><td>          </td><td>                   </td></tr>\n",
              "<tr><td>zeros  </td><td>0                </td><td>1858              </td><td>121              </td><td>15432             </td><td>12118             </td><td>11136             </td><td>10604             </td><td>10278             </td><td>8022              </td><td>6864              </td><td>6231             </td><td>9909             </td><td>                 </td><td>18601             </td><td>474               </td><td>401                </td><td>18585             </td><td>           </td><td>               </td><td>           </td><td>               </td><td>          </td><td>                   </td></tr>\n",
              "<tr><td>missing</td><td>0                </td><td>0                 </td><td>1078             </td><td>0                 </td><td>0                 </td><td>0                 </td><td>0                 </td><td>0                 </td><td>0                 </td><td>0                 </td><td>0                </td><td>0                </td><td>0                </td><td>0                 </td><td>0                 </td><td>0                  </td><td>0                 </td><td>0          </td><td>0              </td><td>0          </td><td>0              </td><td>0         </td><td>0                  </td></tr>\n",
              "<tr><td>0      </td><td>1113121.0        </td><td>0.0               </td><td>8.0              </td><td>1.0               </td><td>6.0               </td><td>6.0               </td><td>6.0               </td><td>0.0               </td><td>4.0               </td><td>9.0               </td><td>12.0             </td><td>0.0              </td><td>No               </td><td>1.0               </td><td>0.9               </td><td>0.89               </td><td>0.0               </td><td>No         </td><td>No             </td><td>No         </td><td>Yes            </td><td>No        </td><td>Yes                </td></tr>\n",
              "<tr><td>1      </td><td>1113268.0        </td><td>0.0               </td><td>8.0              </td><td>0.0               </td><td>2.0               </td><td>3.0               </td><td>4.0               </td><td>1.0               </td><td>2.0               </td><td>3.0               </td><td>3.0              </td><td>0.0              </td><td>No               </td><td>0.0               </td><td>0.96              </td><td>0.97               </td><td>0.0               </td><td>No         </td><td>No             </td><td>No         </td><td>Yes            </td><td>No        </td><td>Yes                </td></tr>\n",
              "<tr><td>2      </td><td>1113874.0        </td><td>20.0              </td><td>2.0              </td><td>0.0               </td><td>45.0              </td><td>99.0              </td><td>153.0             </td><td>16.0              </td><td>42.0              </td><td>80.0              </td><td>111.0            </td><td>10.0             </td><td>No               </td><td>0.0               </td><td>0.81              </td><td>0.88               </td><td>0.0               </td><td>No         </td><td>No             </td><td>No         </td><td>Yes            </td><td>No        </td><td>Yes                </td></tr>\n",
              "<tr><td>3      </td><td>1114222.0        </td><td>0.0               </td><td>8.0              </td><td>0.0               </td><td>9.0               </td><td>14.0              </td><td>21.0              </td><td>5.0               </td><td>17.0              </td><td>36.0              </td><td>43.0             </td><td>0.0              </td><td>No               </td><td>0.0               </td><td>0.96              </td><td>0.98               </td><td>0.0               </td><td>No         </td><td>No             </td><td>No         </td><td>Yes            </td><td>No        </td><td>Yes                </td></tr>\n",
              "<tr><td>4      </td><td>1114823.0        </td><td>0.0               </td><td>12.0             </td><td>0.0               </td><td>31.0              </td><td>31.0              </td><td>31.0              </td><td>7.0               </td><td>15.0              </td><td>33.0              </td><td>47.0             </td><td>2.0              </td><td>No               </td><td>3.0               </td><td>0.98              </td><td>0.98               </td><td>0.0               </td><td>No         </td><td>No             </td><td>No         </td><td>Yes            </td><td>No        </td><td>Yes                </td></tr>\n",
              "<tr><td>5      </td><td>1115453.0        </td><td>55.0              </td><td>8.0              </td><td>0.0               </td><td>216.0             </td><td>360.0             </td><td>492.0             </td><td>30.0              </td><td>108.0             </td><td>275.0             </td><td>340.0            </td><td>51.0             </td><td>No               </td><td>0.0               </td><td>0.0               </td><td>0.0                </td><td>0.0               </td><td>No         </td><td>No             </td><td>Yes        </td><td>Yes            </td><td>No        </td><td>Yes                </td></tr>\n",
              "<tr><td>6      </td><td>1115620.0        </td><td>-34.0             </td><td>8.0              </td><td>0.0               </td><td>120.0             </td><td>240.0             </td><td>240.0             </td><td>83.0              </td><td>122.0             </td><td>144.0             </td><td>165.0            </td><td>33.0             </td><td>No               </td><td>0.0               </td><td>1.0               </td><td>0.97               </td><td>34.0              </td><td>No         </td><td>No             </td><td>No         </td><td>Yes            </td><td>No        </td><td>Yes                </td></tr>\n",
              "<tr><td>7      </td><td>1116446.0        </td><td>4.0               </td><td>9.0              </td><td>0.0               </td><td>43.0              </td><td>67.0              </td><td>115.0             </td><td>5.0               </td><td>22.0              </td><td>40.0              </td><td>58.0             </td><td>4.0              </td><td>No               </td><td>0.0               </td><td>0.69              </td><td>0.68               </td><td>0.0               </td><td>No         </td><td>No             </td><td>No         </td><td>Yes            </td><td>No        </td><td>Yes                </td></tr>\n",
              "<tr><td>8      </td><td>1116834.0        </td><td>2.0               </td><td>8.0              </td><td>0.0               </td><td>4.0               </td><td>6.0               </td><td>9.0               </td><td>1.0               </td><td>5.0               </td><td>6.0               </td><td>9.0              </td><td>2.0              </td><td>No               </td><td>0.0               </td><td>1.0               </td><td>0.95               </td><td>0.0               </td><td>No         </td><td>No             </td><td>No         </td><td>Yes            </td><td>No        </td><td>Yes                </td></tr>\n",
              "<tr><td>9      </td><td>1116868.0        </td><td>-7.0              </td><td>8.0              </td><td>0.0               </td><td>56.0              </td><td>96.0              </td><td>112.0             </td><td>13.0              </td><td>30.0              </td><td>56.0              </td><td>76.0             </td><td>0.0              </td><td>No               </td><td>0.0               </td><td>0.97              </td><td>0.92               </td><td>7.0               </td><td>No         </td><td>No             </td><td>No         </td><td>Yes            </td><td>No        </td><td>Yes                </td></tr>\n",
              "</tbody>\n",
              "</table>"
            ]
          },
          "metadata": {
            "tags": []
          }
        }
      ]
    },
    {
      "metadata": {
        "id": "pb9gTmSJryRF",
        "colab_type": "code",
        "colab": {}
      },
      "cell_type": "code",
      "source": [
        "'''\n",
        "went_on_backorder is already enum type IF it had been 0/1 (int) then\n",
        "then we'd have to convert the column as follows:  df[y] = df[y].asfactor()\n",
        "\n",
        "The \"sku\" column is a unique identifier so we'll want to remove that from\n",
        "the set of our predictors.\n",
        "'''\n",
        "\n",
        "y = 'went_on_backorder'\n",
        "x = df.columns\n",
        "x.remove(y)\n",
        "x.remove('sku')"
      ],
      "execution_count": 0,
      "outputs": []
    },
    {
      "metadata": {
        "id": "-MDyMzSpsSb_",
        "colab_type": "code",
        "colab": {
          "base_uri": "https://localhost:8080/",
          "height": 35
        },
        "outputId": "3d19fa71-d66d-468a-afb5-bf727619de34"
      },
      "cell_type": "code",
      "source": [
        "# Run AutoML\n",
        "\n",
        "aml = H2OAutoML(max_models=20, seed=1)\n",
        "aml.train(x = x, y = y, training_frame=df)"
      ],
      "execution_count": 9,
      "outputs": [
        {
          "output_type": "stream",
          "text": [
            "AutoML progress: |████████████████████████████████████████████████████████| 100%\n"
          ],
          "name": "stdout"
        }
      ]
    },
    {
      "metadata": {
        "id": "nyYBGCpstA_S",
        "colab_type": "code",
        "colab": {}
      },
      "cell_type": "code",
      "source": [
        "'''\n",
        "The leader model is stored at aml.leader and the leaderboard is stored at\n",
        "aml.leaderboard.\n",
        "'''\n",
        "lb = aml.leaderboard"
      ],
      "execution_count": 0,
      "outputs": []
    },
    {
      "metadata": {
        "id": "PwDZI9lktFus",
        "colab_type": "code",
        "colab": {
          "base_uri": "https://localhost:8080/",
          "height": 250
        },
        "outputId": "2c22b680-827f-4f36-caa4-afd6cc58aec7"
      },
      "cell_type": "code",
      "source": [
        "lb.head()"
      ],
      "execution_count": 11,
      "outputs": [
        {
          "output_type": "display_data",
          "data": {
            "text/html": [
              "<table>\n",
              "<thead>\n",
              "<tr><th>model_id                                           </th><th style=\"text-align: right;\">     auc</th><th style=\"text-align: right;\">  logloss</th><th style=\"text-align: right;\">  mean_per_class_error</th><th style=\"text-align: right;\">    rmse</th><th style=\"text-align: right;\">      mse</th></tr>\n",
              "</thead>\n",
              "<tbody>\n",
              "<tr><td>StackedEnsemble_AllModels_AutoML_20190210_183815   </td><td style=\"text-align: right;\">0.951742</td><td style=\"text-align: right;\"> 0.178411</td><td style=\"text-align: right;\">              0.152973</td><td style=\"text-align: right;\">0.224918</td><td style=\"text-align: right;\">0.0505881</td></tr>\n",
              "<tr><td>XGBoost_grid_1_AutoML_20190210_183815_model_2      </td><td style=\"text-align: right;\">0.951328</td><td style=\"text-align: right;\"> 0.182357</td><td style=\"text-align: right;\">              0.173059</td><td style=\"text-align: right;\">0.225147</td><td style=\"text-align: right;\">0.0506912</td></tr>\n",
              "<tr><td>StackedEnsemble_BestOfFamily_AutoML_20190210_183815</td><td style=\"text-align: right;\">0.950602</td><td style=\"text-align: right;\"> 0.179387</td><td style=\"text-align: right;\">              0.146572</td><td style=\"text-align: right;\">0.224853</td><td style=\"text-align: right;\">0.0505588</td></tr>\n",
              "<tr><td>XGBoost_2_AutoML_20190210_183815                   </td><td style=\"text-align: right;\">0.948208</td><td style=\"text-align: right;\"> 0.17361 </td><td style=\"text-align: right;\">              0.156971</td><td style=\"text-align: right;\">0.226176</td><td style=\"text-align: right;\">0.0511554</td></tr>\n",
              "<tr><td>GBM_4_AutoML_20190210_183815                       </td><td style=\"text-align: right;\">0.948132</td><td style=\"text-align: right;\"> 0.173882</td><td style=\"text-align: right;\">              0.148656</td><td style=\"text-align: right;\">0.226523</td><td style=\"text-align: right;\">0.0513126</td></tr>\n",
              "<tr><td>XGBoost_1_AutoML_20190210_183815                   </td><td style=\"text-align: right;\">0.947795</td><td style=\"text-align: right;\"> 0.173721</td><td style=\"text-align: right;\">              0.160198</td><td style=\"text-align: right;\">0.226557</td><td style=\"text-align: right;\">0.051328 </td></tr>\n",
              "<tr><td>XGBoost_grid_1_AutoML_20190210_183815_model_3      </td><td style=\"text-align: right;\">0.947083</td><td style=\"text-align: right;\"> 0.174926</td><td style=\"text-align: right;\">              0.154774</td><td style=\"text-align: right;\">0.227078</td><td style=\"text-align: right;\">0.0515646</td></tr>\n",
              "<tr><td>XGBoost_3_AutoML_20190210_183815                   </td><td style=\"text-align: right;\">0.947027</td><td style=\"text-align: right;\"> 0.175105</td><td style=\"text-align: right;\">              0.16299 </td><td style=\"text-align: right;\">0.226842</td><td style=\"text-align: right;\">0.0514575</td></tr>\n",
              "<tr><td>XGBoost_grid_1_AutoML_20190210_183815_model_4      </td><td style=\"text-align: right;\">0.946514</td><td style=\"text-align: right;\"> 0.174988</td><td style=\"text-align: right;\">              0.14415 </td><td style=\"text-align: right;\">0.227095</td><td style=\"text-align: right;\">0.0515723</td></tr>\n",
              "<tr><td>GBM_3_AutoML_20190210_183815                       </td><td style=\"text-align: right;\">0.946388</td><td style=\"text-align: right;\"> 0.176609</td><td style=\"text-align: right;\">              0.142449</td><td style=\"text-align: right;\">0.228175</td><td style=\"text-align: right;\">0.0520639</td></tr>\n",
              "</tbody>\n",
              "</table>"
            ]
          },
          "metadata": {
            "tags": []
          }
        },
        {
          "output_type": "execute_result",
          "data": {
            "text/plain": [
              ""
            ]
          },
          "metadata": {
            "tags": []
          },
          "execution_count": 11
        }
      ]
    },
    {
      "metadata": {
        "id": "qPxycLmetIkl",
        "colab_type": "code",
        "colab": {
          "base_uri": "https://localhost:8080/",
          "height": 502
        },
        "outputId": "83d2bd4c-9f73-49c7-e3fb-e854b2861496"
      },
      "cell_type": "code",
      "source": [
        "'''\n",
        "To view the entire leaderboard, specify the rows argument of the head()\n",
        "method as the total number of rows:\n",
        "'''\n",
        "lb.head(rows=lb.nrows)"
      ],
      "execution_count": 12,
      "outputs": [
        {
          "output_type": "display_data",
          "data": {
            "text/html": [
              "<table>\n",
              "<thead>\n",
              "<tr><th>model_id                                           </th><th style=\"text-align: right;\">     auc</th><th style=\"text-align: right;\">  logloss</th><th style=\"text-align: right;\">  mean_per_class_error</th><th style=\"text-align: right;\">    rmse</th><th style=\"text-align: right;\">      mse</th></tr>\n",
              "</thead>\n",
              "<tbody>\n",
              "<tr><td>StackedEnsemble_AllModels_AutoML_20190210_183815   </td><td style=\"text-align: right;\">0.951742</td><td style=\"text-align: right;\"> 0.178411</td><td style=\"text-align: right;\">              0.152973</td><td style=\"text-align: right;\">0.224918</td><td style=\"text-align: right;\">0.0505881</td></tr>\n",
              "<tr><td>XGBoost_grid_1_AutoML_20190210_183815_model_2      </td><td style=\"text-align: right;\">0.951328</td><td style=\"text-align: right;\"> 0.182357</td><td style=\"text-align: right;\">              0.173059</td><td style=\"text-align: right;\">0.225147</td><td style=\"text-align: right;\">0.0506912</td></tr>\n",
              "<tr><td>StackedEnsemble_BestOfFamily_AutoML_20190210_183815</td><td style=\"text-align: right;\">0.950602</td><td style=\"text-align: right;\"> 0.179387</td><td style=\"text-align: right;\">              0.146572</td><td style=\"text-align: right;\">0.224853</td><td style=\"text-align: right;\">0.0505588</td></tr>\n",
              "<tr><td>XGBoost_2_AutoML_20190210_183815                   </td><td style=\"text-align: right;\">0.948208</td><td style=\"text-align: right;\"> 0.17361 </td><td style=\"text-align: right;\">              0.156971</td><td style=\"text-align: right;\">0.226176</td><td style=\"text-align: right;\">0.0511554</td></tr>\n",
              "<tr><td>GBM_4_AutoML_20190210_183815                       </td><td style=\"text-align: right;\">0.948132</td><td style=\"text-align: right;\"> 0.173882</td><td style=\"text-align: right;\">              0.148656</td><td style=\"text-align: right;\">0.226523</td><td style=\"text-align: right;\">0.0513126</td></tr>\n",
              "<tr><td>XGBoost_1_AutoML_20190210_183815                   </td><td style=\"text-align: right;\">0.947795</td><td style=\"text-align: right;\"> 0.173721</td><td style=\"text-align: right;\">              0.160198</td><td style=\"text-align: right;\">0.226557</td><td style=\"text-align: right;\">0.051328 </td></tr>\n",
              "<tr><td>XGBoost_grid_1_AutoML_20190210_183815_model_3      </td><td style=\"text-align: right;\">0.947083</td><td style=\"text-align: right;\"> 0.174926</td><td style=\"text-align: right;\">              0.154774</td><td style=\"text-align: right;\">0.227078</td><td style=\"text-align: right;\">0.0515646</td></tr>\n",
              "<tr><td>XGBoost_3_AutoML_20190210_183815                   </td><td style=\"text-align: right;\">0.947027</td><td style=\"text-align: right;\"> 0.175105</td><td style=\"text-align: right;\">              0.16299 </td><td style=\"text-align: right;\">0.226842</td><td style=\"text-align: right;\">0.0514575</td></tr>\n",
              "<tr><td>XGBoost_grid_1_AutoML_20190210_183815_model_4      </td><td style=\"text-align: right;\">0.946514</td><td style=\"text-align: right;\"> 0.174988</td><td style=\"text-align: right;\">              0.14415 </td><td style=\"text-align: right;\">0.227095</td><td style=\"text-align: right;\">0.0515723</td></tr>\n",
              "<tr><td>GBM_3_AutoML_20190210_183815                       </td><td style=\"text-align: right;\">0.946388</td><td style=\"text-align: right;\"> 0.176609</td><td style=\"text-align: right;\">              0.142449</td><td style=\"text-align: right;\">0.228175</td><td style=\"text-align: right;\">0.0520639</td></tr>\n",
              "<tr><td>GBM_5_AutoML_20190210_183815                       </td><td style=\"text-align: right;\">0.946205</td><td style=\"text-align: right;\"> 0.177788</td><td style=\"text-align: right;\">              0.14138 </td><td style=\"text-align: right;\">0.230023</td><td style=\"text-align: right;\">0.0529107</td></tr>\n",
              "<tr><td>GBM_grid_1_AutoML_20190210_183815_model_1          </td><td style=\"text-align: right;\">0.94567 </td><td style=\"text-align: right;\"> 0.178074</td><td style=\"text-align: right;\">              0.172362</td><td style=\"text-align: right;\">0.228667</td><td style=\"text-align: right;\">0.0522887</td></tr>\n",
              "<tr><td>GBM_2_AutoML_20190210_183815                       </td><td style=\"text-align: right;\">0.944956</td><td style=\"text-align: right;\"> 0.179339</td><td style=\"text-align: right;\">              0.155776</td><td style=\"text-align: right;\">0.229637</td><td style=\"text-align: right;\">0.0527332</td></tr>\n",
              "<tr><td>GBM_1_AutoML_20190210_183815                       </td><td style=\"text-align: right;\">0.941952</td><td style=\"text-align: right;\"> 0.18388 </td><td style=\"text-align: right;\">              0.164705</td><td style=\"text-align: right;\">0.232089</td><td style=\"text-align: right;\">0.0538654</td></tr>\n",
              "<tr><td>XGBoost_grid_1_AutoML_20190210_183815_model_1      </td><td style=\"text-align: right;\">0.941814</td><td style=\"text-align: right;\"> 0.182827</td><td style=\"text-align: right;\">              0.158616</td><td style=\"text-align: right;\">0.229996</td><td style=\"text-align: right;\">0.0528983</td></tr>\n",
              "<tr><td>XRT_1_AutoML_20190210_183815                       </td><td style=\"text-align: right;\">0.935325</td><td style=\"text-align: right;\"> 0.203641</td><td style=\"text-align: right;\">              0.169474</td><td style=\"text-align: right;\">0.242563</td><td style=\"text-align: right;\">0.0588367</td></tr>\n",
              "<tr><td>GBM_grid_1_AutoML_20190210_183815_model_2          </td><td style=\"text-align: right;\">0.929409</td><td style=\"text-align: right;\"> 0.205192</td><td style=\"text-align: right;\">              0.162509</td><td style=\"text-align: right;\">0.243856</td><td style=\"text-align: right;\">0.0594659</td></tr>\n",
              "<tr><td>DRF_1_AutoML_20190210_183815                       </td><td style=\"text-align: right;\">0.927647</td><td style=\"text-align: right;\"> 0.228165</td><td style=\"text-align: right;\">              0.182828</td><td style=\"text-align: right;\">0.257954</td><td style=\"text-align: right;\">0.06654  </td></tr>\n",
              "<tr><td>GLM_grid_1_AutoML_20190210_183815_model_1          </td><td style=\"text-align: right;\">0.741996</td><td style=\"text-align: right;\"> 0.338675</td><td style=\"text-align: right;\">              0.29912 </td><td style=\"text-align: right;\">0.314387</td><td style=\"text-align: right;\">0.0988395</td></tr>\n",
              "<tr><td>DeepLearning_grid_1_AutoML_20190210_183815_model_2 </td><td style=\"text-align: right;\">0.662352</td><td style=\"text-align: right;\"> 0.359647</td><td style=\"text-align: right;\">              0.384705</td><td style=\"text-align: right;\">0.318149</td><td style=\"text-align: right;\">0.101219 </td></tr>\n",
              "<tr><td>DeepLearning_grid_1_AutoML_20190210_183815_model_1 </td><td style=\"text-align: right;\">0.623505</td><td style=\"text-align: right;\"> 0.406541</td><td style=\"text-align: right;\">              0.417577</td><td style=\"text-align: right;\">0.321844</td><td style=\"text-align: right;\">0.103583 </td></tr>\n",
              "<tr><td>DeepLearning_1_AutoML_20190210_183815              </td><td style=\"text-align: right;\">0.602434</td><td style=\"text-align: right;\"> 1.40982 </td><td style=\"text-align: right;\">              0.419392</td><td style=\"text-align: right;\">0.598255</td><td style=\"text-align: right;\">0.357909 </td></tr>\n",
              "</tbody>\n",
              "</table>"
            ]
          },
          "metadata": {
            "tags": []
          }
        },
        {
          "output_type": "execute_result",
          "data": {
            "text/plain": [
              ""
            ]
          },
          "metadata": {
            "tags": []
          },
          "execution_count": 12
        }
      ]
    },
    {
      "metadata": {
        "id": "8FP5oL2DzQGd",
        "colab_type": "code",
        "colab": {}
      },
      "cell_type": "code",
      "source": [
        "# Ensemble Exploration\n",
        "'''\n",
        "let's take a peek inside the Stacked Ensemble \"All Models\" model.\n",
        "The \"All Models\" ensemble is an ensemble of all of the individual models\n",
        "in the AutoML run. This is often the top performing model on the\n",
        "leaderboard.\n",
        "'''\n",
        "\n",
        "# get model_id of all models in leaderboard\n",
        "model_ids = list(aml.leaderboard['model_id'].as_data_frame().iloc[:,0])\n",
        "\n",
        "# get the All Models Stacked Ensemble Model\n",
        "se = h2o.get_model([x for x in model_ids \n",
        "                    if \"StackedEnsemble_AllModels\" in x][0])\n",
        "\n",
        "'''\n",
        "metalearner : combine algorithm in the  ensemble\n",
        "'''\n",
        "metalearner = h2o.get_model(se.metalearner()['name'])"
      ],
      "execution_count": 0,
      "outputs": []
    },
    {
      "metadata": {
        "id": "f6WHI0pF1CN-",
        "colab_type": "code",
        "colab": {
          "base_uri": "https://localhost:8080/",
          "height": 395
        },
        "outputId": "6d6fc85e-5354-4d42-c2c9-8a549f5c3b45"
      },
      "cell_type": "code",
      "source": [
        "'''\n",
        "how much each base learner contributing to ensemble\n",
        "'''\n",
        "metalearner.coef_norm()"
      ],
      "execution_count": 14,
      "outputs": [
        {
          "output_type": "execute_result",
          "data": {
            "text/plain": [
              "{'DRF_1_AutoML_20190210_183815': 0.0995458930058759,\n",
              " 'DeepLearning_1_AutoML_20190210_183815': 0.0,\n",
              " 'DeepLearning_grid_1_AutoML_20190210_183815_model_1': 0.0,\n",
              " 'DeepLearning_grid_1_AutoML_20190210_183815_model_2': 0.0,\n",
              " 'GBM_1_AutoML_20190210_183815': 0.0,\n",
              " 'GBM_2_AutoML_20190210_183815': 0.0,\n",
              " 'GBM_3_AutoML_20190210_183815': 0.0,\n",
              " 'GBM_4_AutoML_20190210_183815': 0.019424663523772832,\n",
              " 'GBM_5_AutoML_20190210_183815': 0.10175750735737611,\n",
              " 'GBM_grid_1_AutoML_20190210_183815_model_1': 0.16640994118826666,\n",
              " 'GBM_grid_1_AutoML_20190210_183815_model_2': 0.08876070230403744,\n",
              " 'GLM_grid_1_AutoML_20190210_183815_model_1': 0.1191946418980572,\n",
              " 'Intercept': -2.959731688875367,\n",
              " 'XGBoost_1_AutoML_20190210_183815': 0.0,\n",
              " 'XGBoost_2_AutoML_20190210_183815': 0.0,\n",
              " 'XGBoost_3_AutoML_20190210_183815': 0.0,\n",
              " 'XGBoost_grid_1_AutoML_20190210_183815_model_1': 0.0,\n",
              " 'XGBoost_grid_1_AutoML_20190210_183815_model_2': 0.3917445098126565,\n",
              " 'XGBoost_grid_1_AutoML_20190210_183815_model_3': 0.0,\n",
              " 'XGBoost_grid_1_AutoML_20190210_183815_model_4': 0.378878055790541,\n",
              " 'XRT_1_AutoML_20190210_183815': 0.5610157192607382}"
            ]
          },
          "metadata": {
            "tags": []
          },
          "execution_count": 14
        }
      ]
    },
    {
      "metadata": {
        "id": "ZJM5l-lf1f_t",
        "colab_type": "code",
        "colab": {
          "base_uri": "https://localhost:8080/",
          "height": 686
        },
        "outputId": "99427173-0594-406e-d7de-ea837897129f"
      },
      "cell_type": "code",
      "source": [
        "%matplotlib inline\n",
        "metalearner.std_coef_plot()"
      ],
      "execution_count": 16,
      "outputs": [
        {
          "output_type": "stream",
          "text": [
            "/usr/local/lib/python3.6/dist-packages/matplotlib/cbook/__init__.py:424: MatplotlibDeprecationWarning: \n",
            "Passing one of 'on', 'true', 'off', 'false' as a boolean is deprecated; use an actual boolean (True/False) instead.\n",
            "  warn_deprecated(\"2.2\", \"Passing one of 'on', 'true', 'off', 'false' as a \"\n"
          ],
          "name": "stderr"
        },
        {
          "output_type": "display_data",
          "data": {
            "image/png": "[encoded data removed]",
            "text/plain": [
              "<Figure size 1008x720 with 1 Axes>"
            ]
          },
          "metadata": {
            "tags": []
          }
        }
      ]
    },
    {
      "metadata": {
        "id": "z3uiW7im12ND",
        "colab_type": "code",
        "colab": {
          "base_uri": "https://localhost:8080/",
          "height": 35
        },
        "outputId": "23a9765f-65ef-40a6-b07f-3d43bda51916"
      },
      "cell_type": "code",
      "source": [
        "# Saving Model\n",
        "\n",
        "h2o.save_model(aml.leader, path='./product_backorders_model_bin')\n",
        "\n",
        "# Download\n",
        "\n",
        "aml.leader.download_mojo(path='./')"
      ],
      "execution_count": 17,
      "outputs": [
        {
          "output_type": "execute_result",
          "data": {
            "text/plain": [
              "'/content/StackedEnsemble_AllModels_AutoML_20190210_183815.zip'"
            ]
          },
          "metadata": {
            "tags": []
          },
          "execution_count": 17
        }
      ]
    }
  ]
}